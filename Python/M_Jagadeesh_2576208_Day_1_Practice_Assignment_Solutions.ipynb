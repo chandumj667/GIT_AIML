{
 "cells": [
  {
   "cell_type": "markdown",
   "id": "374bcf59",
   "metadata": {},
   "source": [
    "# 1 Manipulating using a list"
   ]
  },
  {
   "cell_type": "code",
   "execution_count": 1,
   "id": "757c9ffa",
   "metadata": {},
   "outputs": [],
   "source": [
    "# in this we are dealing with list so create a list\n",
    "list =[\"Chadra\", \"Sai\", \"Jagadeesh\", 2576208]"
   ]
  },
  {
   "cell_type": "code",
   "execution_count": 2,
   "id": "69b7d73b",
   "metadata": {},
   "outputs": [
    {
     "name": "stdout",
     "output_type": "stream",
     "text": [
      "['Chadra', 'Sai', 'Jagadeesh', 2576208]\n"
     ]
    }
   ],
   "source": [
    "print(list)"
   ]
  },
  {
   "cell_type": "code",
   "execution_count": 14,
   "id": "efc46a37",
   "metadata": {},
   "outputs": [
    {
     "name": "stdout",
     "output_type": "stream",
     "text": [
      "['Chadra', 'Sai', 'Jagadeesh', 2576208, 'Day-1']\n"
     ]
    }
   ],
   "source": [
    "# i) To add new elements to the end of the list\n",
    "\n",
    "list.append(\"Day-1\")\n",
    "# using append to add an element in the last of the  list \n",
    "\n",
    "print(list)"
   ]
  },
  {
   "cell_type": "code",
   "execution_count": 15,
   "id": "a4a73436",
   "metadata": {},
   "outputs": [
    {
     "name": "stdout",
     "output_type": "stream",
     "text": [
      "['Day-1', 2576208, 'Jagadeesh', 'Sai', 'Chadra']\n"
     ]
    }
   ],
   "source": [
    "# ii) To reverse the elements in the list\n",
    "\n",
    "list.reverse()\n",
    "# to reverse the elements in the list we used the reverse()\n",
    "\n",
    "print(list) "
   ]
  },
  {
   "cell_type": "code",
   "execution_count": 17,
   "id": "89594c49",
   "metadata": {},
   "outputs": [
    {
     "name": "stdout",
     "output_type": "stream",
     "text": [
      "Enter the number of time to repeat5\n",
      "['Chadra', 'Sai', 'Jagadeesh', 2576208, 'Day-1']\n",
      "['Chadra', 'Sai', 'Jagadeesh', 2576208, 'Day-1']\n",
      "['Chadra', 'Sai', 'Jagadeesh', 2576208, 'Day-1']\n",
      "['Chadra', 'Sai', 'Jagadeesh', 2576208, 'Day-1']\n",
      "['Chadra', 'Sai', 'Jagadeesh', 2576208, 'Day-1']\n"
     ]
    }
   ],
   "source": [
    "list.reverse()\n",
    "# iii) To display the same list of elements multiple times\n",
    "\n",
    "\n",
    "no_of_times = int(input(\"Enter the number of time to repeat\"))\n",
    "\n",
    "#to display the same list elements multiple times we need to use Loops or multiplication\n",
    "\n",
    "for rep in range(no_of_times):\n",
    "    print(list)"
   ]
  },
  {
   "cell_type": "code",
   "execution_count": 20,
   "id": "412bf7dc",
   "metadata": {},
   "outputs": [
    {
     "name": "stdout",
     "output_type": "stream",
     "text": [
      "[1, 2, 3, 4, 5, 'a', 'b', 'c', 'd']\n"
     ]
    }
   ],
   "source": [
    "# iv) To concatenate two list\n",
    "listA = [1, 2, 3, 4, 5]\n",
    "listB = ['a', 'b', 'c', 'd']\n",
    "\n",
    "# to concatinate the two lists we use (+) operator and also expand()\n",
    "result_list = listA+listB\n",
    "\n",
    "# listA.expend(listB)\n",
    "\n",
    "print(result_list)"
   ]
  },
  {
   "cell_type": "code",
   "execution_count": 24,
   "id": "69ec0e7c",
   "metadata": {},
   "outputs": [
    {
     "name": "stdout",
     "output_type": "stream",
     "text": [
      "[24, 32, 43, 54, 55, 76, 100]\n"
     ]
    }
   ],
   "source": [
    "# v) To sort the elements in the list in ascending order\n",
    "\n",
    "listC = [100, 32, 54, 24, 76, 43, 55]\n",
    "\n",
    "listC.sort() \n",
    "# to sort the list we use sort() fun \n",
    "print(listC)"
   ]
  },
  {
   "cell_type": "markdown",
   "id": "cdc79f79",
   "metadata": {},
   "source": [
    "# 2 Write a python program to do in the tuples"
   ]
  },
  {
   "cell_type": "code",
   "execution_count": 28,
   "id": "c4217c59",
   "metadata": {},
   "outputs": [
    {
     "name": "stdout",
     "output_type": "stream",
     "text": [
      "('ram', 'sita', 'lakshman', 'hanuma')\n"
     ]
    }
   ],
   "source": [
    "# In this we are using tuples\n",
    "tup = (\"ram\", \"sita\", \"lakshman\", \"hanuma\")\n",
    "print(tup)"
   ]
  },
  {
   "cell_type": "code",
   "execution_count": 36,
   "id": "b4f2e415",
   "metadata": {},
   "outputs": [
    {
     "name": "stdout",
     "output_type": "stream",
     "text": [
      "('ram', 'sita', 'lakshman', 'hanuma', 'Ayodhya')\n"
     ]
    }
   ],
   "source": [
    "# i) Manipulate using tuples\n",
    "tup = tup + (\"Ayodhya\",) \n",
    "#used tuple concatenate to add an element in to the tuple\n",
    "print(tup)\n"
   ]
  },
  {
   "cell_type": "code",
   "execution_count": 37,
   "id": "076b29a0",
   "metadata": {},
   "outputs": [
    {
     "name": "stdout",
     "output_type": "stream",
     "text": [
      "('ram', 'sita', 'lakshman', 'hanuma', 'Ayodhya', 'krishna', 'Radha', 'balram', 'Yashoda')\n"
     ]
    }
   ],
   "source": [
    "# ii) To add new elements to the end of the tuples\n",
    "tup2 = (\"krishna\", \"Radha\", \"balram\", \"Yashoda\")\n",
    "tup = tup + tup2\n",
    "print(tup)"
   ]
  },
  {
   "cell_type": "code",
   "execution_count": 42,
   "id": "06431a4a",
   "metadata": {},
   "outputs": [
    {
     "name": "stdout",
     "output_type": "stream",
     "text": [
      "('Yashoda', 'balram', 'Radha', 'krishna', 'Ayodhya', 'hanuma', 'lakshman', 'sita', 'ram')\n"
     ]
    }
   ],
   "source": [
    "# iii) revese the elements in it\n",
    "print(tup[::-1])\n",
    "# we used indexing to reverse the elements"
   ]
  },
  {
   "cell_type": "code",
   "execution_count": 44,
   "id": "faf4efcb",
   "metadata": {},
   "outputs": [
    {
     "name": "stdout",
     "output_type": "stream",
     "text": [
      "Enter the num of times3\n",
      "('ram', 'sita', 'lakshman', 'hanuma', 'Ayodhya', 'krishna', 'Radha', 'balram', 'Yashoda', 'ram', 'sita', 'lakshman', 'hanuma', 'Ayodhya', 'krishna', 'Radha', 'balram', 'Yashoda', 'ram', 'sita', 'lakshman', 'hanuma', 'Ayodhya', 'krishna', 'Radha', 'balram', 'Yashoda')\n"
     ]
    }
   ],
   "source": [
    "# iv) to display the elements of the same tuple times\n",
    "rep = int(input(\"Enter the num of times\"))\n",
    "# using loops to repeat or we can use multiplication operator\n",
    "\n",
    "new_tup = tup*rep\n",
    "print(new_tup)\n",
    "\n",
    "# for i in range(rep):\n",
    "#     print(tup)"
   ]
  },
  {
   "cell_type": "code",
   "execution_count": 45,
   "id": "96373a2d",
   "metadata": {},
   "outputs": [
    {
     "name": "stdout",
     "output_type": "stream",
     "text": [
      "('Apple', 'Banana', 'Strawberry', 'Carrot', 'Beetroot', 'lemon')\n"
     ]
    }
   ],
   "source": [
    "# v) to concatenate two tuples\n",
    "fruits = (\"Apple\", \"Banana\", \"Strawberry\")\n",
    "vegetable = (\"Carrot\", \"Beetroot\", \"lemon\")\n",
    "\n",
    "# using + operator to concatenate the two tuples\n",
    "grocery_list = fruits + vegetable\n",
    "\n",
    "print(grocery_list)"
   ]
  },
  {
   "cell_type": "code",
   "execution_count": 48,
   "id": "b43b9953",
   "metadata": {},
   "outputs": [
    {
     "name": "stdout",
     "output_type": "stream",
     "text": [
      "['Apple', 'Banana', 'Beetroot', 'Carrot', 'Strawberry', 'lemon']\n"
     ]
    }
   ],
   "source": [
    "# vi) To sort the elements in the e list in ascending order\n",
    "items = []\n",
    "for i in range (len(grocery_list)):\n",
    "    items.append(grocery_list[i])\n",
    "    \n",
    "items.sort()\n",
    "print(items)"
   ]
  },
  {
   "cell_type": "markdown",
   "id": "95eaf1cf",
   "metadata": {},
   "source": [
    "# 3 Write a python program to implement the following using list"
   ]
  },
  {
   "cell_type": "code",
   "execution_count": 49,
   "id": "7f38de69",
   "metadata": {},
   "outputs": [
    {
     "name": "stdout",
     "output_type": "stream",
     "text": [
      "[12, 34, 32, 43, 67, 53, 99, 78, 102, 83]\n"
     ]
    }
   ],
   "source": [
    "# i) create a list with integers (min 10 numbers)\n",
    "\n",
    "nums = [12, 34, 32, 43, 67, 53, 99, 78, 102, 83]\n",
    "\n",
    "print(nums)"
   ]
  },
  {
   "cell_type": "code",
   "execution_count": 50,
   "id": "546bc866",
   "metadata": {},
   "outputs": [
    {
     "name": "stdout",
     "output_type": "stream",
     "text": [
      "83\n"
     ]
    }
   ],
   "source": [
    "# ii) how to display the last number in the list\n",
    "\n",
    "#  we can access the last number or element in the list bu using negative indexing\n",
    "print(nums[-1])"
   ]
  },
  {
   "cell_type": "code",
   "execution_count": 51,
   "id": "f0d4f233",
   "metadata": {},
   "outputs": [
    {
     "name": "stdout",
     "output_type": "stream",
     "text": [
      "[34, 32, 43, 67]\n"
     ]
    }
   ],
   "source": [
    "# iii) command for displaying the values from the list[0:4]\n",
    "\n",
    "#  we use slicing concept with [start and end) indices \n",
    "\n",
    "print(nums[1:5])"
   ]
  },
  {
   "cell_type": "code",
   "execution_count": 52,
   "id": "150b2f40",
   "metadata": {},
   "outputs": [
    {
     "name": "stdout",
     "output_type": "stream",
     "text": [
      "[32, 43, 67, 53, 99, 78, 102, 83]\n"
     ]
    }
   ],
   "source": [
    "# iv) command fro diaplaying the values from the list[2:]\n",
    "# using only starting index the end index by default taken as last index of the list\n",
    "\n",
    "print(nums[2:])"
   ]
  },
  {
   "cell_type": "code",
   "execution_count": 53,
   "id": "db639e27",
   "metadata": {},
   "outputs": [
    {
     "name": "stdout",
     "output_type": "stream",
     "text": [
      "[12, 34, 32, 43, 67, 53]\n"
     ]
    }
   ],
   "source": [
    "# v) commmand fro displaying the values from the list[:6]\n",
    "# given only the last index by default the slice fun takes first index as zeroth place\n",
    "\n",
    "print(nums[:6])"
   ]
  },
  {
   "cell_type": "markdown",
   "id": "6b32c446",
   "metadata": {},
   "source": [
    "# 4 Write a python program: tuple1 = (10, 50, 20, 40, 30)"
   ]
  },
  {
   "cell_type": "code",
   "execution_count": 59,
   "id": "bfce0b39",
   "metadata": {},
   "outputs": [
    {
     "name": "stdout",
     "output_type": "stream",
     "text": [
      "(10, 50)\n"
     ]
    }
   ],
   "source": [
    "# i) To display the elements 10 and 50 from tuple1\n",
    "tuple1 =  (10, 50, 20, 40, 30)\n",
    "# using indexing we can access the elements from the tuple\n",
    "print(tuple1[:2])\n"
   ]
  },
  {
   "cell_type": "code",
   "execution_count": 60,
   "id": "5108fc19",
   "metadata": {},
   "outputs": [
    {
     "name": "stdout",
     "output_type": "stream",
     "text": [
      "5\n"
     ]
    }
   ],
   "source": [
    "# ii) To display the length of a tuple1\n",
    "# we use len function to get the length of the tuple\n",
    "print(len(tuple1))"
   ]
  },
  {
   "cell_type": "code",
   "execution_count": 61,
   "id": "a436c002",
   "metadata": {},
   "outputs": [
    {
     "name": "stdout",
     "output_type": "stream",
     "text": [
      "10\n"
     ]
    }
   ],
   "source": [
    "# iii) To find the minimum element from tuple1\n",
    "#  we can use min \n",
    "\n",
    "print(min(tuple1))"
   ]
  },
  {
   "cell_type": "code",
   "execution_count": 62,
   "id": "6122b49f",
   "metadata": {},
   "outputs": [
    {
     "name": "stdout",
     "output_type": "stream",
     "text": [
      "150\n"
     ]
    }
   ],
   "source": [
    "# iv) To add all elements in the tuple1\n",
    "# use the sum function to add all the elements in tuple\n",
    "print(sum(tuple1))"
   ]
  },
  {
   "cell_type": "code",
   "execution_count": 64,
   "id": "f4b5b665",
   "metadata": {},
   "outputs": [
    {
     "name": "stdout",
     "output_type": "stream",
     "text": [
      "enter repetations count5\n",
      "(10, 50, 20, 40, 30, 10, 50, 20, 40, 30, 10, 50, 20, 40, 30, 10, 50, 20, 40, 30, 10, 50, 20, 40, 30)\n"
     ]
    }
   ],
   "source": [
    "# v) To display the same tuple multiple times\n",
    "rep = int(input(\"enter repetations count\"))\n",
    "print(tuple1*rep)"
   ]
  },
  {
   "cell_type": "markdown",
   "id": "2791aa58",
   "metadata": {},
   "source": [
    "# 5 Write a python program"
   ]
  },
  {
   "cell_type": "code",
   "execution_count": 66,
   "id": "c4b9d96a",
   "metadata": {},
   "outputs": [
    {
     "name": "stdout",
     "output_type": "stream",
     "text": [
      "52\n"
     ]
    }
   ],
   "source": [
    "movie = \"Rotten Tomatoes are the less sail items in this year\"\n",
    "\n",
    "# i) To calculatee the length of a string\n",
    "#  to calculate length we use len \n",
    "\n",
    "print(len(movie))"
   ]
  },
  {
   "cell_type": "code",
   "execution_count": 69,
   "id": "60aee116",
   "metadata": {},
   "outputs": [
    {
     "name": "stdout",
     "output_type": "stream",
     "text": [
      "['year', 'this', 'in', 'items', 'sail', 'less', 'the', 'are', 'Tomatoes', 'Rotten']\n"
     ]
    }
   ],
   "source": [
    "# ii) To revrse words in a string\n",
    "# to reverse the words in a string \n",
    "# we can convert the string in to list by using split then reverse\n",
    "\n",
    "words = movie.split()\n",
    "rev_words = words[::-1]\n",
    "print(rev_words)"
   ]
  },
  {
   "cell_type": "code",
   "execution_count": 74,
   "id": "f71affac",
   "metadata": {},
   "outputs": [
    {
     "name": "stdout",
     "output_type": "stream",
     "text": [
      "Rotten Tomatoes are the less sail items in this year\n",
      "Rotten Tomatoes are the less sail items in this year\n",
      "Rotten Tomatoes are the less sail items in this year\n",
      "Rotten Tomatoes are the less sail items in this year\n",
      "Rotten Tomatoes are the less sail items in this year\n",
      "\n"
     ]
    }
   ],
   "source": [
    "# iii) To display the same string multiple times\n",
    "# using loop or mutiplication operator\n",
    "\n",
    "print((movie+\"\\n\")*5)"
   ]
  },
  {
   "cell_type": "code",
   "execution_count": 76,
   "id": "507fba31",
   "metadata": {},
   "outputs": [
    {
     "name": "stdout",
     "output_type": "stream",
     "text": [
      "bahubali the conclusion\n"
     ]
    }
   ],
   "source": [
    "# iv) TO concatenate two strings\n",
    "#  using  + operator to concatenate the two strings\n",
    "\n",
    "movie = \"bahubali\"\n",
    "tag = \" the conclusion\"\n",
    "\n",
    "movie_title = movie+tag\n",
    "print(movie_title)"
   ]
  },
  {
   "cell_type": "code",
   "execution_count": 78,
   "id": "592f1841",
   "metadata": {},
   "outputs": [
    {
     "name": "stdout",
     "output_type": "stream",
     "text": [
      "India\n"
     ]
    }
   ],
   "source": [
    "# v) Str1 = \"South India\", Using string slicing to display \"India\"\n",
    "Str1 = \"South India\"\n",
    "print(Str1[6:])"
   ]
  },
  {
   "cell_type": "markdown",
   "id": "3c4a4082",
   "metadata": {},
   "source": [
    "# 6 Perform the following"
   ]
  },
  {
   "cell_type": "code",
   "execution_count": 91,
   "id": "90d029f5",
   "metadata": {},
   "outputs": [
    {
     "name": "stdout",
     "output_type": "stream",
     "text": [
      "{'naem': 'MSD', 'Age': 45, 'Sport': ('cricket', 'football'), 'contry': 'India'}\n"
     ]
    }
   ],
   "source": [
    "# i) Create the Dictionary\n",
    "\n",
    "player = {\"naem\": \"MSD\", \"Age\": 45, \"Sport\":(\"cricket\", \"football\"), \"contry\": \"India\"}\n",
    "print(player)"
   ]
  },
  {
   "cell_type": "code",
   "execution_count": 85,
   "id": "c38cc8ea",
   "metadata": {},
   "outputs": [
    {
     "name": "stdout",
     "output_type": "stream",
     "text": [
      "naem:MSD\n",
      "Age:45\n",
      "Sport:('cricket', 'football')\n",
      "contry:India\n"
     ]
    }
   ],
   "source": [
    "# ii) Accessing values and keys in the Dictionary\n",
    "# using loop to get the key and value pair from the dictionary\n",
    "for i, j in player.items():\n",
    "    print(f\"{i}:{j}\")"
   ]
  },
  {
   "cell_type": "code",
   "execution_count": 86,
   "id": "98d7140c",
   "metadata": {},
   "outputs": [
    {
     "name": "stdout",
     "output_type": "stream",
     "text": [
      "{'naem': 'MSD', 'Age': 45, 'Sport': ('cricket', 'football'), 'contry': 'India', 'Spouse': 'Sakshi D'}\n"
     ]
    }
   ],
   "source": [
    "# iii) updating the dictionary using a function\n",
    "# by using a function to update the key and value in the player\n",
    "\n",
    "def update_player(player, i, j):\n",
    "    player[i] = j\n",
    "    \n",
    "update_player(player, \"Spouse\", \"Sakshi D\")\n",
    "\n",
    "print(player)"
   ]
  },
  {
   "cell_type": "code",
   "execution_count": 96,
   "id": "9da00b13",
   "metadata": {},
   "outputs": [
    {
     "name": "stdout",
     "output_type": "stream",
     "text": [
      "{'naem': 'MSD', 'Age': 45, 'Sport': ('cricket', 'football'), 'contry': 'India'}\n"
     ]
    }
   ],
   "source": [
    "# iv) clear and delete the dictionary\n",
    "player_details = player.copy()\n",
    "\n",
    "player.clear()\n",
    "\n",
    "del player\n",
    "\n",
    "# print(player)\n",
    "print(player_details)"
   ]
  },
  {
   "cell_type": "markdown",
   "id": "ede01166",
   "metadata": {},
   "source": [
    "# 7 Python program to insert a number to any position in a list"
   ]
  },
  {
   "cell_type": "code",
   "execution_count": 99,
   "id": "c3105997",
   "metadata": {},
   "outputs": [
    {
     "name": "stdout",
     "output_type": "stream",
     "text": [
      "[12, 34, 32, 43, 67, 53, 99, 78, 102, 83, 56, 43]\n",
      "[12, 34, 32, 1000, 43, 67, 53, 99, 78, 102, 83, 56, 43]\n"
     ]
    }
   ],
   "source": [
    "#  for this we can use insert to insert an element to the list at any position\n",
    "nums = [12, 34, 32, 43, 67, 53, 99, 78, 102, 83, 56, 43]\n",
    "\n",
    "print(nums)\n",
    "\n",
    "nums.insert(3, 1000)\n",
    "print(nums)\n"
   ]
  },
  {
   "cell_type": "markdown",
   "id": "eec41cb3",
   "metadata": {},
   "source": [
    "# 8 Pyton program to delete an element from a list by index"
   ]
  },
  {
   "cell_type": "code",
   "execution_count": 101,
   "id": "d57fa797",
   "metadata": {},
   "outputs": [
    {
     "name": "stdout",
     "output_type": "stream",
     "text": [
      "[12, 34, 32, 1000, 67, 99, 78, 102, 83, 56, 43]\n",
      "[12, 34, 32, 1000, 99, 78, 102, 83, 56, 43]\n",
      "[12, 34, 32, 1000, 99, 102, 83, 56, 43]\n"
     ]
    }
   ],
   "source": [
    "# to delete an element from a specified pos or index we can use poop(index) or del\n",
    "\n",
    "print(nums)\n",
    "\n",
    "nums.pop(4)\n",
    "\n",
    "print(nums)\n",
    "\n",
    "del nums[5]\n",
    "print(nums)"
   ]
  },
  {
   "cell_type": "markdown",
   "id": "a16fcc3b",
   "metadata": {},
   "source": [
    "# 9 Write a program to display the numbers from 1 to 100"
   ]
  },
  {
   "cell_type": "code",
   "execution_count": 109,
   "id": "e2e01a3d",
   "metadata": {},
   "outputs": [
    {
     "name": "stdout",
     "output_type": "stream",
     "text": [
      "1\n",
      "2\n",
      "3\n",
      "4\n",
      "5\n",
      "6\n",
      "7\n",
      "8\n",
      "9\n",
      "10\n",
      "11\n",
      "12\n",
      "13\n",
      "14\n",
      "15\n",
      "16\n",
      "17\n",
      "18\n",
      "19\n",
      "20\n",
      "21\n",
      "22\n",
      "23\n",
      "24\n",
      "25\n",
      "26\n",
      "27\n",
      "28\n",
      "29\n",
      "30\n",
      "31\n",
      "32\n",
      "33\n",
      "34\n",
      "35\n",
      "36\n",
      "37\n",
      "38\n",
      "39\n",
      "40\n",
      "41\n",
      "42\n",
      "43\n",
      "44\n",
      "45\n",
      "46\n",
      "47\n",
      "48\n",
      "49\n",
      "50\n",
      "51\n",
      "52\n",
      "53\n",
      "54\n",
      "55\n",
      "56\n",
      "57\n",
      "58\n",
      "59\n",
      "60\n",
      "61\n",
      "62\n",
      "63\n",
      "64\n",
      "65\n",
      "66\n",
      "67\n",
      "68\n",
      "69\n",
      "70\n",
      "71\n",
      "72\n",
      "73\n",
      "74\n",
      "75\n",
      "76\n",
      "77\n",
      "78\n",
      "79\n",
      "80\n",
      "81\n",
      "82\n",
      "83\n",
      "84\n",
      "85\n",
      "86\n",
      "87\n",
      "88\n",
      "89\n",
      "90\n",
      "91\n",
      "92\n",
      "93\n",
      "94\n",
      "95\n",
      "96\n",
      "97\n",
      "98\n",
      "99\n",
      "100\n"
     ]
    }
   ],
   "source": [
    "# here we can use loop from 1 to 100 \n",
    "for num in range(1, 101):\n",
    "    print(num)"
   ]
  },
  {
   "cell_type": "markdown",
   "id": "1e809083",
   "metadata": {},
   "source": [
    "# 10 write a python program to find the sum of all items in a tuple"
   ]
  },
  {
   "cell_type": "code",
   "execution_count": null,
   "id": "27712b3b",
   "metadata": {},
   "outputs": [],
   "source": [
    "# we can use sum to calculate the summation of all items in a tuple\n",
    "\n",
    "values = (1, 2, 3, 4, 5, 6, 7, 8, 9, 10, 9, 8, 7, 6, 5, 4, 3, 2, 1)\n",
    "print(sum(values))"
   ]
  },
  {
   "cell_type": "markdown",
   "id": "98ce27fb",
   "metadata": {},
   "source": [
    "# 11 create a dictionary containing three lambda functions square, cube and square root"
   ]
  },
  {
   "cell_type": "code",
   "execution_count": 116,
   "id": "fdffe12a",
   "metadata": {},
   "outputs": [
    {
     "name": "stdout",
     "output_type": "stream",
     "text": [
      "Enter a number: 25\n",
      "Square of 25 is 625\n",
      "Cube of 25 is 15625\n",
      "Squareroot of 25 is 5.0\n"
     ]
    }
   ],
   "source": [
    "# i) E.g dict = {\"Square\":function for squaring, \"Cube\":function for cube,\"Squareroot\":function for square root}\n",
    "#  we need to create the function for this\n",
    "\n",
    "import math\n",
    "\n",
    "# Create a dictionary with lambda functions\n",
    "calculate = {\n",
    "    \"Square\": lambda x: x**2,\n",
    "    \"Cube\": lambda x: x**3,\n",
    "    \"Squareroot\": lambda x: math.sqrt(x)\n",
    "}\n",
    "\n",
    "# Test the functions\n",
    "number = int(input(\"Enter a number: \"))\n",
    "sq_res = calculate[\"Square\"](number)\n",
    "cb_res = calculate[\"Cube\"](number)\n",
    "sqrt_res = calculate[\"Squareroot\"](number)\n",
    "\n",
    "# Print the results\n",
    "print(f\"Square of {number} is {sq_res}\")\n",
    "print(f\"Cube of {number} is {cb_res}\")\n",
    "print(f\"Squareroot of {number} is {sqrt_res}\")"
   ]
  },
  {
   "cell_type": "markdown",
   "id": "20d42d3a",
   "metadata": {},
   "source": [
    "# 12 A list of words is given."
   ]
  },
  {
   "cell_type": "code",
   "execution_count": 115,
   "id": "0a18e2f7",
   "metadata": {},
   "outputs": [
    {
     "name": "stdout",
     "output_type": "stream",
     "text": [
      "['hello', 'Dear', 'hOw', 'ARe', 'You']\n",
      "['hOw', 'ARe']\n"
     ]
    }
   ],
   "source": [
    "# find teh words from the list have their second character in uppercase \n",
    "ls = [\"hello\", \"Dear\", \"hOw\", \"ARe\", \"You\"]\n",
    "res = []\n",
    "for i in ls:\n",
    "    if i[1].isupper():\n",
    "        res.append(i)\n",
    "        \n",
    "print(ls)\n",
    "print(res)"
   ]
  }
 ],
 "metadata": {
  "kernelspec": {
   "display_name": "Python 3 (ipykernel)",
   "language": "python",
   "name": "python3"
  },
  "language_info": {
   "codemirror_mode": {
    "name": "ipython",
    "version": 3
   },
   "file_extension": ".py",
   "mimetype": "text/x-python",
   "name": "python",
   "nbconvert_exporter": "python",
   "pygments_lexer": "ipython3",
   "version": "3.11.4"
  }
 },
 "nbformat": 4,
 "nbformat_minor": 5
}
