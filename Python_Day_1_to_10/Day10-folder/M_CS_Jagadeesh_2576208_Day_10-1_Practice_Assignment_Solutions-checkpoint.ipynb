{
 "cells": [
  {
   "cell_type": "code",
   "execution_count": 1,
   "id": "c6b2274c",
   "metadata": {},
   "outputs": [],
   "source": [
    "%matplotlib inline\n",
    "import pandas as pd\n"
   ]
  },
  {
   "cell_type": "code",
   "execution_count": 4,
   "id": "b9771c06",
   "metadata": {},
   "outputs": [
    {
     "name": "stdout",
     "output_type": "stream",
     "text": [
      "                  title  year\n",
      "0    Tasveer Mere Sanam  1996\n",
      "1              Only You  1994\n",
      "2  El pueblo del terror  1970\n",
      "3               Machine  2007\n",
      "4                  MARy  2008\n"
     ]
    }
   ],
   "source": [
    "titles = pd.read_csv(\"C:/Users/chandu/Training_Practice_exercises/pandas_files/titles.csv\")\n",
    "print(titles.head())"
   ]
  },
  {
   "cell_type": "markdown",
   "id": "8cb923dc",
   "metadata": {},
   "source": [
    "# 1: How many Movies are listed in the titles dataframe?"
   ]
  },
  {
   "cell_type": "code",
   "execution_count": 5,
   "id": "e128e9e6",
   "metadata": {},
   "outputs": [
    {
     "name": "stdout",
     "output_type": "stream",
     "text": [
      "244914 are listed in the titles dataframe\n"
     ]
    }
   ],
   "source": [
    "movie_count = titles.shape[0]\n",
    "print(f\"{movie_count} are listed in the titles dataframe\")"
   ]
  },
  {
   "cell_type": "markdown",
   "id": "a911cf12",
   "metadata": {},
   "source": [
    "# 2: What are the earliest two films listed in ht titles data frame?"
   ]
  },
  {
   "cell_type": "code",
   "execution_count": 15,
   "id": "e1ff9fd4",
   "metadata": {},
   "outputs": [
    {
     "name": "stdout",
     "output_type": "stream",
     "text": [
      "The earliest two films listed in the titles are:\n",
      "\n",
      "                      title  year\n",
      "193222          Miss Jerry  1894\n",
      "51388   The Startled Lover  1898\n"
     ]
    }
   ],
   "source": [
    "release_year = titles.sort_values(by=\"year\")\n",
    "earliest = release_year.head(2)\n",
    "\n",
    "print(f\"The earliest two films listed in the titles are:\\n\\n {earliest}\")"
   ]
  },
  {
   "cell_type": "markdown",
   "id": "5739a046",
   "metadata": {},
   "source": [
    "# 3: How many movies have the tile \"Hamlet\"?"
   ]
  },
  {
   "cell_type": "code",
   "execution_count": 17,
   "id": "020b0a5b",
   "metadata": {},
   "outputs": [
    {
     "name": "stdout",
     "output_type": "stream",
     "text": [
      "20  movies with Hamlet word in the tilte\n"
     ]
    }
   ],
   "source": [
    "halmet_cnt = len(titles[titles[\"title\"] == \"Hamlet\"])\n",
    "print(f\"{halmet_cnt}  movies with Hamlet word in the tilte\")"
   ]
  },
  {
   "cell_type": "markdown",
   "id": "6b69b37b",
   "metadata": {},
   "source": [
    "# 4: How many movies are titles \"North by Northwest\""
   ]
  },
  {
   "cell_type": "code",
   "execution_count": 24,
   "id": "30647ef5",
   "metadata": {},
   "outputs": [
    {
     "name": "stdout",
     "output_type": "stream",
     "text": [
      "1 movies are titled as North by Northwest\n"
     ]
    }
   ],
   "source": [
    "north_cnt = len(titles[titles[\"title\"]==\"North by Northwest\"])\n",
    "print(f\"{north_cnt} movies are titled as North by Northwest\")"
   ]
  },
  {
   "cell_type": "markdown",
   "id": "4b0c6527",
   "metadata": {},
   "source": [
    "# 5: whwn was the first movie title \"Hamlet\" made?"
   ]
  },
  {
   "cell_type": "code",
   "execution_count": 30,
   "id": "53f2c3aa",
   "metadata": {},
   "outputs": [
    {
     "name": "stdout",
     "output_type": "stream",
     "text": [
      "The first Hamlet movie released is: 1910\n"
     ]
    }
   ],
   "source": [
    "hamlet_list =  titles[titles[\"title\"]== \"Hamlet\"]\n",
    "\n",
    "hamlet_list = hamlet_list.sort_values(by=\"year\")\n",
    "\n",
    "first_hamlet_mv = hamlet_list[\"year\"].iloc[0]\n",
    "print(f\"The first Hamlet movie released is: {first_hamlet_mv}\")"
   ]
  },
  {
   "cell_type": "markdown",
   "id": "b173e693",
   "metadata": {},
   "source": [
    "# 6: List all the \"Treasure Island\" movies from earliest to most recent?"
   ]
  },
  {
   "cell_type": "code",
   "execution_count": 32,
   "id": "968188e3",
   "metadata": {},
   "outputs": [
    {
     "name": "stdout",
     "output_type": "stream",
     "text": [
      "List of Treasure Island movies:\n",
      "\n",
      "1918\t : Treasure Island\n",
      "1920\t : Treasure Island\n",
      "1934\t : Treasure Island\n",
      "1950\t : Treasure Island\n",
      "1972\t : Treasure Island\n",
      "1973\t : Treasure Island\n",
      "1985\t : Treasure Island\n",
      "1999\t : Treasure Island\n"
     ]
    }
   ],
   "source": [
    "treasure = titles[titles[\"title\"] == \"Treasure Island\"]\n",
    "\n",
    "treasure_mvs = treasure.sort_values(by=\"year\")\n",
    "\n",
    "print(f\"List of Treasure Island movies:\\n\")\n",
    "for index, row in treasure_mvs.iterrows():\n",
    "    print(f'{row[\"year\"]}\\t : {row[\"title\"]}')"
   ]
  },
  {
   "cell_type": "markdown",
   "id": "74d3bb31",
   "metadata": {},
   "source": [
    "# 7: How many movies were made in the year 1950?"
   ]
  },
  {
   "cell_type": "code",
   "execution_count": 43,
   "id": "0a2a295e",
   "metadata": {},
   "outputs": [
    {
     "name": "stdout",
     "output_type": "stream",
     "text": [
      "Num of movies made in 1950 is\t: 1113\n"
     ]
    }
   ],
   "source": [
    "mvs_in_1950 = titles[titles[\"year\"] == 1950]\n",
    "\n",
    "mvs_in_1950_cnt = len(mvs_in_1950)\n",
    "\n",
    "print(f\"Num of movies made in 1950 is\\t: \", end=\"\")\n",
    "print(mvs_in_1950_cnt)"
   ]
  },
  {
   "cell_type": "markdown",
   "id": "a2427b21",
   "metadata": {},
   "source": [
    "# 8: How many movies were made in the year 1960?"
   ]
  },
  {
   "cell_type": "code",
   "execution_count": 46,
   "id": "12c20ce0",
   "metadata": {},
   "outputs": [
    {
     "name": "stdout",
     "output_type": "stream",
     "text": [
      "Num of movies made in 1960 is\t: 1549\n"
     ]
    }
   ],
   "source": [
    "mvs_in_1960 = titles[titles[\"year\"] == 1960]\n",
    "\n",
    "mvs_in_1960_cnt = len(mvs_in_1960)\n",
    "\n",
    "print(f\"Num of movies made in 1960 is\\t: \", end=\"\")\n",
    "print(mvs_in_1960_cnt)"
   ]
  },
  {
   "cell_type": "markdown",
   "id": "c315090f",
   "metadata": {},
   "source": [
    "# 9: How many movies were made from 1950 through 1959?"
   ]
  },
  {
   "cell_type": "code",
   "execution_count": 51,
   "id": "2aadacca",
   "metadata": {},
   "outputs": [
    {
     "name": "stdout",
     "output_type": "stream",
     "text": [
      "Num of movies between 1950 to 1959 are\t:  12934\n"
     ]
    }
   ],
   "source": [
    "mvs = titles[(titles[\"year\"]>=1950) & (titles[\"year\"]<=1959)]\n",
    "mvs_cnt = len(mvs)\n",
    "print(\"Num of movies between 1950 to 1959 are\\t: \", end=\" \")\n",
    "print(mvs_cnt)"
   ]
  },
  {
   "cell_type": "markdown",
   "id": "f7ba120e",
   "metadata": {},
   "source": [
    "# 10:In what years has a movie titled \"Batman\" been released?"
   ]
  },
  {
   "cell_type": "code",
   "execution_count": 52,
   "id": "b07f0e0e",
   "metadata": {},
   "outputs": [
    {
     "name": "stdout",
     "output_type": "stream",
     "text": [
      "Years in which Batman movie released are:  [1943 1989]\n"
     ]
    }
   ],
   "source": [
    "mvs_bt = titles[titles[\"title\"] == \"Batman\"]\n",
    "\n",
    "yrs_bt = mvs_bt[\"year\"].unique()\n",
    "\n",
    "print(\"Years in which Batman movie released are: \",end=\" \")\n",
    "print(yrs_bt)"
   ]
  },
  {
   "cell_type": "code",
   "execution_count": 5,
   "id": "c30451dd",
   "metadata": {
    "scrolled": true
   },
   "outputs": [
    {
     "name": "stdout",
     "output_type": "stream",
     "text": [
      "                  title  year      name   type                character     n\n",
      "0        Closet Monster  2015  Buffy #1  actor                  Buffy 4  31.0\n",
      "1       Suuri illusioni  1985    Homo $  actor                   Guests  22.0\n",
      "2   Battle of the Sexes  2017   $hutter  actor          Bobby Riggs Fan  10.0\n",
      "3  Secret in Their Eyes  2015   $hutter  actor          2002 Dodger Fan   NaN\n",
      "4            Steve Jobs  2015   $hutter  actor  1988 Opera House Patron   NaN\n"
     ]
    }
   ],
   "source": [
    "cast= pd.read_csv(\"C:/Users/chandu/Training_Practice_exercises/pandas_files/cast.csv\")\n",
    "print(cast.head())"
   ]
  },
  {
   "cell_type": "markdown",
   "id": "de666b24",
   "metadata": {},
   "source": [
    "# 11: How many roles were there in the movie \"Inception\"?"
   ]
  },
  {
   "cell_type": "code",
   "execution_count": 6,
   "id": "a8c60af9",
   "metadata": {},
   "outputs": [
    {
     "name": "stdout",
     "output_type": "stream",
     "text": [
      "Number of roles in Inception is\t: 56\n"
     ]
    }
   ],
   "source": [
    "inception_cast = cast[cast[\"title\"] == \"Inception\"]\n",
    "roles_inception = len(inception_cast[\"character\"].unique())\n",
    "\n",
    "print(\"Number of roles in Inception is\\t: \", end=\"\")\n",
    "print(roles_inception)"
   ]
  },
  {
   "cell_type": "markdown",
   "id": "c78c226c",
   "metadata": {},
   "source": [
    "# 12: How many roles in the movie \"Inception\" are Not ranked an \"n\" Value?"
   ]
  },
  {
   "cell_type": "code",
   "execution_count": 60,
   "id": "3d0e6c2c",
   "metadata": {},
   "outputs": [
    {
     "name": "stdout",
     "output_type": "stream",
     "text": [
      "Number of roles in Inception without a ranked n is\t:  27\n"
     ]
    }
   ],
   "source": [
    "inception_cast = cast[cast[\"title\"] == \"Inception\"]\n",
    "roles_without_n = inception_cast[\"n\"].isna().sum()\n",
    "\n",
    "print(\"Number of roles in Inception without a ranked n is\\t: \", end=\" \")\n",
    "print(roles_without_n)"
   ]
  },
  {
   "cell_type": "markdown",
   "id": "3259fefe",
   "metadata": {},
   "source": [
    "# 13: But how many roles in movie \"Inception\" did receive an \"n\" value?"
   ]
  },
  {
   "cell_type": "code",
   "execution_count": 61,
   "id": "c5741601",
   "metadata": {},
   "outputs": [
    {
     "name": "stdout",
     "output_type": "stream",
     "text": [
      "Number of roles in Inception with ranked n is\t:  51\n"
     ]
    }
   ],
   "source": [
    "inception_cast = cast[cast[\"title\"] == \"Inception\"]\n",
    "roles_with_n = inception_cast[\"n\"].count()\n",
    "\n",
    "print(\"Number of roles in Inception with ranked n is\\t: \", end=\" \")\n",
    "print(roles_with_n)"
   ]
  },
  {
   "cell_type": "markdown",
   "id": "2003ea1f",
   "metadata": {},
   "source": [
    "# 14: Display the cast of \"North by Northwest\" in their correct \"n\" value order \n",
    "    ignoring roles that did not earn a numeric \"n\" value"
   ]
  },
  {
   "cell_type": "code",
   "execution_count": 68,
   "id": "b5f01cf8",
   "metadata": {},
   "outputs": [
    {
     "name": "stdout",
     "output_type": "stream",
     "text": [
      "            n                    character\n",
      "871426    1.0           Roger O. Thornhill\n",
      "3518333   2.0                  Eve Kendall\n",
      "1457165   3.0              Phillip Vandamm\n",
      "3157232   4.0              Clara Thornhill\n",
      "356707    5.0                The Professor\n",
      "3048272   6.0                Mrs. Townsend\n",
      "1695173   7.0              Lester Townsend\n",
      "1275337   8.0                      Leonard\n",
      "2447081   9.0                     Valerian\n",
      "1811387  10.0              Victor Larrabee\n",
      "665768   11.0                        Licht\n",
      "2295714  12.0                   Auctioneer\n",
      "464736   13.0                    Dr. Cross\n",
      "1508344  14.0               Sergeant Flamm\n",
      "206471   15.0               Captain Junket\n",
      "1384780  16.0  Charley - Chicago Policeman\n"
     ]
    }
   ],
   "source": [
    "north = cast[cast[\"title\"] == \"North by Northwest\"]\n",
    "\n",
    "north= north.dropna(subset=[\"n\"])\n",
    "north_sort = north.sort_values(by = \"n\")\n",
    "\n",
    "print(north_sort[[\"n\", \"character\"]])"
   ]
  },
  {
   "cell_type": "markdown",
   "id": "2f8a7d49",
   "metadata": {},
   "source": [
    "# 15: Display the entire cast, in \"n\"-order, of th e1972 film \"sleuth\"."
   ]
  },
  {
   "cell_type": "code",
   "execution_count": 73,
   "id": "b37d1460",
   "metadata": {},
   "outputs": [
    {
     "name": "stdout",
     "output_type": "stream",
     "text": [
      "           n                name                   character  year\n",
      "1705394  1.0    Laurence Olivier                 Andrew Wyke  1972\n",
      "326773   2.0       Michael Caine                 Milo Tindle  1972\n",
      "373876   3.0      Alec Cawthorne           Inspector Doppler  1972\n",
      "1465483  4.0  John (II) Matthews  Detective Sergeant Tarrant  1972\n",
      "2724553  5.0  Eve (III) Channing             Marguerite Wyke  1972\n",
      "1448690  6.0        Teddy Martin      Police Constable Higgs  1972\n"
     ]
    }
   ],
   "source": [
    "cast_sleuth_1972 = cast[(cast[\"title\"] == \"Sleuth\") & \n",
    "                        (cast[\"year\"] == 1972)]\n",
    "\n",
    "cast_sorted = cast_sleuth_1972.sort_values(by=\"n\")\n",
    "\n",
    "print(cast_sorted[[\"n\", \"name\", \"character\", \"year\"]])"
   ]
  },
  {
   "cell_type": "markdown",
   "id": "ad6d5b8a",
   "metadata": {},
   "source": [
    "# 16: Now display the entire cast, in \"n\"-order, of the 2007 version \"Sleuth\"."
   ]
  },
  {
   "cell_type": "code",
   "execution_count": 75,
   "id": "b607ab50",
   "metadata": {},
   "outputs": [
    {
     "name": "stdout",
     "output_type": "stream",
     "text": [
      "           n                 name          character  year\n",
      "326774   1.0        Michael Caine             Andrew  2007\n",
      "1293634  2.0             Jude Law               Milo  2007\n",
      "1805907  3.0        Harold Pinter        Man on T.V.  2007\n",
      "260242   NaN      Kenneth Branagh  Other Man on T.V.  2007\n",
      "373877   NaN  Alec (II) Cawthorne  Inspector Doppler  2007\n",
      "2724552  NaN    Eve (II) Channing    Marguerite Wyke  2007\n",
      "3370424  NaN    Carmel O'Sullivan             Maggie  2007\n"
     ]
    }
   ],
   "source": [
    "cast_sleuth_1972 = cast[(cast[\"title\"] == \"Sleuth\") & (cast[\"year\"] == 2007)]\n",
    "\n",
    "cast_sorted = cast_sleuth_1972.sort_values(by=\"n\")\n",
    "\n",
    "print(cast_sorted[[\"n\", \"name\", \"character\",\"year\"]])"
   ]
  },
  {
   "cell_type": "markdown",
   "id": "2d663857",
   "metadata": {},
   "source": [
    "# 17: How many roles were credited in the silent 1921 version of Hamlet?"
   ]
  },
  {
   "cell_type": "code",
   "execution_count": 76,
   "id": "a99b2fd9",
   "metadata": {},
   "outputs": [
    {
     "name": "stdout",
     "output_type": "stream",
     "text": [
      "NUmber of credited roles in the silent 1921 version of Hamlet is: 9\n"
     ]
    }
   ],
   "source": [
    "hamlet_1921 = cast[(cast[\"title\"] == \"Hamlet\") & \n",
    "                   (cast[\"year\"] == 1921)]\n",
    "\n",
    "roles = hamlet_1921[\"character\"].count()\n",
    "\n",
    "print(\"NUmber of credited roles in the silent 1921 version of Hamlet is: \", end=\"\")\n",
    "print(roles)"
   ]
  },
  {
   "cell_type": "markdown",
   "id": "fd838dc4",
   "metadata": {},
   "source": [
    "# 18: How many roles were credited in Branagh's 1996 Hamlet?"
   ]
  },
  {
   "cell_type": "code",
   "execution_count": 79,
   "id": "4e43b93b",
   "metadata": {},
   "outputs": [
    {
     "name": "stdout",
     "output_type": "stream",
     "text": [
      "Number of credited roles in the silent 1996 Hamlet is: 54\n"
     ]
    }
   ],
   "source": [
    "hamlet_1996 = cast[(cast[\"title\"] ==  \"Hamlet\") & (cast[\"year\"] == 1996)]\n",
    "roles = hamlet_1996[\"character\"].count()\n",
    "\n",
    "print(\"Number of credited roles in the silent 1996 Hamlet is: \", end=\"\")\n",
    "print(roles)"
   ]
  },
  {
   "cell_type": "markdown",
   "id": "3ad8d12e",
   "metadata": {},
   "source": [
    "# 19: How many \"Hamlet\" roles have been listed in all film credits through history?"
   ]
  },
  {
   "cell_type": "code",
   "execution_count": 80,
   "id": "976841f6",
   "metadata": {},
   "outputs": [
    {
     "name": "stdout",
     "output_type": "stream",
     "text": [
      "Number of roles listed in all film credits: 485\n"
     ]
    }
   ],
   "source": [
    "hamlet = cast[cast[\"title\"].str.contains(\"Hamlet\", case = False, regex = False)]\n",
    "roles = len(hamlet[\"character\"].unique())\n",
    "print(\"Number of roles listed in all film credits: \", end=\"\")\n",
    "print(roles)"
   ]
  },
  {
   "cell_type": "markdown",
   "id": "f12372e0",
   "metadata": {},
   "source": [
    "# 20: how many people have played an \"Ophelia\"?"
   ]
  },
  {
   "cell_type": "code",
   "execution_count": 86,
   "id": "53cd3314",
   "metadata": {},
   "outputs": [
    {
     "name": "stdout",
     "output_type": "stream",
     "text": [
      "Number of people have pllayed an Ophelia is: 115\n"
     ]
    }
   ],
   "source": [
    "ppl = cast[cast[\"character\"] == \"Ophelia\"]\n",
    "ppl_count = len(ppl[\"name\"].unique())\n",
    "\n",
    "print(\"Number of people have pllayed an Ophelia is: \", end=\"\")\n",
    "print(ppl_count)"
   ]
  },
  {
   "cell_type": "markdown",
   "id": "d6097e3f",
   "metadata": {},
   "source": [
    "# 21: How many people have played a role called \"The Dude\"?"
   ]
  },
  {
   "cell_type": "code",
   "execution_count": 126,
   "id": "164ff555",
   "metadata": {},
   "outputs": [
    {
     "name": "stdout",
     "output_type": "stream",
     "text": [
      "Number of people have pllayed an The Dude is: 19\n"
     ]
    }
   ],
   "source": [
    "ppl = cast[cast[\"character\"] == \"The Dude\"]\n",
    "ppl_count = len(ppl[\"name\"].unique())\n",
    "\n",
    "print(\"Number of people have pllayed an The Dude is: \", end=\"\")\n",
    "print(ppl_count)"
   ]
  },
  {
   "cell_type": "markdown",
   "id": "8e9aac23",
   "metadata": {},
   "source": [
    "# 22: How many people have played a role called \"The Stranger\"?"
   ]
  },
  {
   "cell_type": "code",
   "execution_count": 88,
   "id": "d29ab977",
   "metadata": {},
   "outputs": [
    {
     "name": "stdout",
     "output_type": "stream",
     "text": [
      "Number of people have pllayed an The Stranger is: 202\n"
     ]
    }
   ],
   "source": [
    "ppl = cast[cast[\"character\"] == \"The Stranger\"]\n",
    "ppl_count = len(ppl[\"name\"].unique())\n",
    "\n",
    "print(\"Number of people have pllayed an The Stranger is: \", end=\"\")\n",
    "print(ppl_count)"
   ]
  },
  {
   "cell_type": "markdown",
   "id": "1729da17",
   "metadata": {},
   "source": [
    "# 23: How many roles has Sidney Poitier played throughout his career?"
   ]
  },
  {
   "cell_type": "code",
   "execution_count": 94,
   "id": "2f20ed6c",
   "metadata": {},
   "outputs": [
    {
     "name": "stdout",
     "output_type": "stream",
     "text": [
      "Sidney Poitier has played : 41 roles throughout his career\n"
     ]
    }
   ],
   "source": [
    "sidney = cast[cast[\"name\"]== \"Sidney Poitier\"]\n",
    "\n",
    "roles_count = len(sidney[\"character\"].unique())\n",
    "\n",
    "print(\"Sidney Poitier has played : \", end=\"\")\n",
    "print(roles_count, \"roles throughout his career\")"
   ]
  },
  {
   "cell_type": "markdown",
   "id": "edf98445",
   "metadata": {},
   "source": [
    "# 24: How many roles has Judi Dench played?"
   ]
  },
  {
   "cell_type": "code",
   "execution_count": 95,
   "id": "49a7d80c",
   "metadata": {},
   "outputs": [
    {
     "name": "stdout",
     "output_type": "stream",
     "text": [
      "Judi Dench has played : 46 roles throughout his career\n"
     ]
    }
   ],
   "source": [
    "judi = cast[cast[\"name\"]== \"Judi Dench\"]\n",
    "\n",
    "roles_count = len(judi[\"character\"].unique())\n",
    "\n",
    "print(\"Judi Dench has played : \", end=\"\")\n",
    "print(roles_count, \"roles throughout his career\")"
   ]
  },
  {
   "cell_type": "markdown",
   "id": "2684824a",
   "metadata": {},
   "source": [
    "# 25: List the supporting  roles (havinh n=2) played by cary Grant in the 1940s in order by year?"
   ]
  },
  {
   "cell_type": "code",
   "execution_count": 101,
   "id": "bc5181a3",
   "metadata": {},
   "outputs": [
    {
     "name": "stdout",
     "output_type": "stream",
     "text": [
      "Supporting roles played by Cary Grant in tht year 1940s: \n",
      "                   title  year        name   type    character    n\n",
      "871423  My Favorite Wife  1940  Cary Grant  actor   Nick Arden  2.0\n",
      "871433    Penny Serenade  1941  Cary Grant  actor  Roger Adams  2.0\n"
     ]
    }
   ],
   "source": [
    "list = cast[(cast[\"name\"] == \"Cary Grant\") & \n",
    "            (cast[\"n\"] == 2) & \n",
    "            (cast[\"year\"] >= 1940) & \n",
    "            (cast[\"year\"] <= 1949)]\n",
    "cary_grant = list.sort_values(by =\"year\")\n",
    "\n",
    "print(\"Supporting roles played by Cary Grant in tht year 1940s: \")\n",
    "print(cary_grant)"
   ]
  },
  {
   "cell_type": "markdown",
   "id": "3b2de0d8",
   "metadata": {},
   "source": [
    "# 26: List the leading roles that Cary Grant played in the 1940s in order by the year"
   ]
  },
  {
   "cell_type": "code",
   "execution_count": 118,
   "id": "e7549276",
   "metadata": {},
   "outputs": [
    {
     "name": "stdout",
     "output_type": "stream",
     "text": [
      "Leading roles played by Cary Grant in tht year 1940s: \n",
      "Year : 1940 , Character : Matt Howard, Title: The Howards of Virginia\n",
      "Year : 1940 , Character : Walter Burns, Title: His Girl Friday\n",
      "Year : 1940 , Character : C. K. Dexter Haven, Title: The Philadelphia Story\n",
      "Year : 1941 , Character : Johnnie Aysgarth, Title: Suspicion\n",
      "Year : 1942 , Character : Leopold Dilg, Title: The Talk of the Town\n",
      "Year : 1942 , Character : Patrick 'Pat' O'Toole, Title: Once Upon a Honeymoon\n",
      "Year : 1943 , Character : Capt. Cassidy, Title: Destination Tokyo\n",
      "Year : 1943 , Character : Joe Adams -posing as Joe Bascopolous, Title: Mr. Lucky\n",
      "Year : 1944 , Character : Jerry Flynn, Title: Once Upon a Time\n",
      "Year : 1944 , Character : Mortimer Brewster, Title: Arsenic and Old Lace\n",
      "Year : 1944 , Character : Ernie Mott, Title: None But the Lonely Heart\n",
      "Year : 1946 , Character : Cole Porter, Title: Night and Day\n",
      "Year : 1946 , Character : Devlin, Title: Notorious\n",
      "Year : 1947 , Character : Dick Nugent, Title: The Bachelor and the Bobby-Soxer\n",
      "Year : 1947 , Character : Dudley, Title: The Bishop's Wife\n",
      "Year : 1948 , Character : Jim Blandings, Title: Mr. Blandings Builds His Dream House\n",
      "Year : 1948 , Character : Dr. Madison Brown, Title: Every Girl Should Be Married\n",
      "Year : 1949 , Character : Captain Henri Rochard, Title: I Was a Male War Bride\n"
     ]
    }
   ],
   "source": [
    "list = cast[(cast[\"name\"] == \"Cary Grant\") & \n",
    "            (cast[\"n\"] == 1) & \n",
    "            (cast[\"year\"] >= 1940) & \n",
    "            (cast[\"year\"] <= 1949)]\n",
    "cary_grant = list.sort_values(by =\"year\")\n",
    "\n",
    "print(\"Leading roles played by Cary Grant in tht year 1940s: \")\n",
    "# print(cary_grant)\n",
    "\n",
    "for index, row in cary_grant.iterrows():\n",
    "    print(f\"Year : {row['year']} , Character : {row['character']}, Title: {row['title']}\")"
   ]
  },
  {
   "cell_type": "markdown",
   "id": "5b24309f",
   "metadata": {},
   "source": [
    "# 27: How many roles were avaialable for actors in the 1950s?"
   ]
  },
  {
   "cell_type": "code",
   "execution_count": 121,
   "id": "db97032d",
   "metadata": {},
   "outputs": [
    {
     "name": "stdout",
     "output_type": "stream",
     "text": [
      "num of roles in 1950s : 747201\n"
     ]
    }
   ],
   "source": [
    "roles_1950s = cast[(cast[\"year\"]>=1050) & (cast[\"year\"] <=1959)]\n",
    "\n",
    "role_count = len(roles_1950s)\n",
    "\n",
    "print(\"num of roles in 1950s : \", end=\"\")\n",
    "print(role_count)"
   ]
  },
  {
   "cell_type": "markdown",
   "id": "bc1cff95",
   "metadata": {},
   "source": [
    "# 28: How many roles were avaialable for actresses in the 1950s?"
   ]
  },
  {
   "cell_type": "code",
   "execution_count": 123,
   "id": "1b3a1928",
   "metadata": {},
   "outputs": [
    {
     "name": "stdout",
     "output_type": "stream",
     "text": [
      "num of roles in 1950s : 199422\n"
     ]
    }
   ],
   "source": [
    "roles_1950s = cast[(cast[\"year\"]>=1050) & \n",
    "                   (cast[\"year\"] <=1959) & \n",
    "                   (cast[\"type\"] == \"actress\")]\n",
    "\n",
    "role_count = len(roles_1950s)\n",
    "\n",
    "print(\"num of roles in 1950s : \", end=\"\")\n",
    "print(role_count)"
   ]
  },
  {
   "cell_type": "markdown",
   "id": "0638c8dc",
   "metadata": {},
   "source": [
    "# 29: How many leading roles were available from the begining of film history throughh 1980?"
   ]
  },
  {
   "cell_type": "code",
   "execution_count": 124,
   "id": "09aef6ec",
   "metadata": {},
   "outputs": [
    {
     "name": "stdout",
     "output_type": "stream",
     "text": [
      "Num of leading roles from the begining to 1980: 65140\n"
     ]
    }
   ],
   "source": [
    "role_1980 = cast[(cast[\"year\"]<=1980) &\n",
    "                (cast[\"n\"] == 1)]\n",
    "\n",
    "count = len(role_1980)\n",
    "\n",
    "print(f\"Num of leading roles from the begining to 1980: {count}\")"
   ]
  },
  {
   "cell_type": "markdown",
   "id": "b9826838",
   "metadata": {},
   "source": [
    "# 30: How many non-leading roles were available through from the begining of film  history through 1980"
   ]
  },
  {
   "cell_type": "code",
   "execution_count": 128,
   "id": "36ff6fb3",
   "metadata": {},
   "outputs": [
    {
     "name": "stdout",
     "output_type": "stream",
     "text": [
      "Num of non-leading roles from the begining to 1980: 448347\n"
     ]
    }
   ],
   "source": [
    "role_1980 = cast[(cast[\"year\"]<=1980) &\n",
    "                (cast[\"n\"].isna())]\n",
    "\n",
    "count = len(role_1980)\n",
    "\n",
    "print(f\"Num of non-leading roles from the begining to 1980: {count}\")"
   ]
  },
  {
   "cell_type": "markdown",
   "id": "baa98d4c",
   "metadata": {},
   "source": [
    "# 31: How many roles through 1980 were minor enough that they did not warrant a numeric \"n\" rank?"
   ]
  },
  {
   "cell_type": "code",
   "execution_count": 125,
   "id": "9ef53ef5",
   "metadata": {},
   "outputs": [
    {
     "name": "stdout",
     "output_type": "stream",
     "text": [
      "num of roles through 1980 not have n rank : 448347\n"
     ]
    }
   ],
   "source": [
    "minor_1980 = cast[(cast[\"year\"] <=1980) &\n",
    "                 cast[\"n\"].isna()]\n",
    "\n",
    "count_minor = len(minor_1980)\n",
    "\n",
    "print(f\"num of roles through 1980 not have n rank : {count_minor}\")"
   ]
  },
  {
   "cell_type": "code",
   "execution_count": null,
   "id": "9e8b4a34",
   "metadata": {},
   "outputs": [],
   "source": []
  }
 ],
 "metadata": {
  "kernelspec": {
   "display_name": "Python 3 (ipykernel)",
   "language": "python",
   "name": "python3"
  },
  "language_info": {
   "codemirror_mode": {
    "name": "ipython",
    "version": 3
   },
   "file_extension": ".py",
   "mimetype": "text/x-python",
   "name": "python",
   "nbconvert_exporter": "python",
   "pygments_lexer": "ipython3",
   "version": "3.11.4"
  }
 },
 "nbformat": 4,
 "nbformat_minor": 5
}
