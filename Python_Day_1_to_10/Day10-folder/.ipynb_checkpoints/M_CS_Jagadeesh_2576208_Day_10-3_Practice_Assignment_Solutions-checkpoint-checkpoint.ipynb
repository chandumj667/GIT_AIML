{
 "cells": [
  {
   "cell_type": "code",
   "execution_count": 1,
   "id": "292184d3",
   "metadata": {},
   "outputs": [],
   "source": [
    "%matplotlib inline\n",
    "import matplotlib.pyplot as plt\n",
    "import pandas as pd"
   ]
  },
  {
   "cell_type": "code",
   "execution_count": 3,
   "id": "e8570ce0",
   "metadata": {},
   "outputs": [
    {
     "data": {
      "text/html": [
       "<div>\n",
       "<style scoped>\n",
       "    .dataframe tbody tr th:only-of-type {\n",
       "        vertical-align: middle;\n",
       "    }\n",
       "\n",
       "    .dataframe tbody tr th {\n",
       "        vertical-align: top;\n",
       "    }\n",
       "\n",
       "    .dataframe thead th {\n",
       "        text-align: right;\n",
       "    }\n",
       "</style>\n",
       "<table border=\"1\" class=\"dataframe\">\n",
       "  <thead>\n",
       "    <tr style=\"text-align: right;\">\n",
       "      <th></th>\n",
       "      <th>title</th>\n",
       "      <th>year</th>\n",
       "    </tr>\n",
       "  </thead>\n",
       "  <tbody>\n",
       "    <tr>\n",
       "      <th>0</th>\n",
       "      <td>Tasveer Mere Sanam</td>\n",
       "      <td>1996</td>\n",
       "    </tr>\n",
       "    <tr>\n",
       "      <th>1</th>\n",
       "      <td>Only You</td>\n",
       "      <td>1994</td>\n",
       "    </tr>\n",
       "    <tr>\n",
       "      <th>2</th>\n",
       "      <td>El pueblo del terror</td>\n",
       "      <td>1970</td>\n",
       "    </tr>\n",
       "    <tr>\n",
       "      <th>3</th>\n",
       "      <td>Machine</td>\n",
       "      <td>2007</td>\n",
       "    </tr>\n",
       "    <tr>\n",
       "      <th>4</th>\n",
       "      <td>MARy</td>\n",
       "      <td>2008</td>\n",
       "    </tr>\n",
       "  </tbody>\n",
       "</table>\n",
       "</div>"
      ],
      "text/plain": [
       "                  title  year\n",
       "0    Tasveer Mere Sanam  1996\n",
       "1              Only You  1994\n",
       "2  El pueblo del terror  1970\n",
       "3               Machine  2007\n",
       "4                  MARy  2008"
      ]
     },
     "execution_count": 3,
     "metadata": {},
     "output_type": "execute_result"
    }
   ],
   "source": [
    "titles = pd.read_csv(\"C:/Users/chandu/Training_Practice_exercises/pandas_files/titles.csv\", index_col = None)\n",
    "titles.head()\n"
   ]
  },
  {
   "cell_type": "code",
   "execution_count": 6,
   "id": "f3aef5b1",
   "metadata": {},
   "outputs": [
    {
     "data": {
      "text/html": [
       "<div>\n",
       "<style scoped>\n",
       "    .dataframe tbody tr th:only-of-type {\n",
       "        vertical-align: middle;\n",
       "    }\n",
       "\n",
       "    .dataframe tbody tr th {\n",
       "        vertical-align: top;\n",
       "    }\n",
       "\n",
       "    .dataframe thead th {\n",
       "        text-align: right;\n",
       "    }\n",
       "</style>\n",
       "<table border=\"1\" class=\"dataframe\">\n",
       "  <thead>\n",
       "    <tr style=\"text-align: right;\">\n",
       "      <th></th>\n",
       "      <th>title</th>\n",
       "      <th>year</th>\n",
       "      <th>name</th>\n",
       "      <th>type</th>\n",
       "      <th>character</th>\n",
       "      <th>n</th>\n",
       "    </tr>\n",
       "  </thead>\n",
       "  <tbody>\n",
       "    <tr>\n",
       "      <th>0</th>\n",
       "      <td>Closet Monster</td>\n",
       "      <td>2015</td>\n",
       "      <td>Buffy #1</td>\n",
       "      <td>actor</td>\n",
       "      <td>Buffy 4</td>\n",
       "      <td>31.0</td>\n",
       "    </tr>\n",
       "    <tr>\n",
       "      <th>1</th>\n",
       "      <td>Suuri illusioni</td>\n",
       "      <td>1985</td>\n",
       "      <td>Homo $</td>\n",
       "      <td>actor</td>\n",
       "      <td>Guests</td>\n",
       "      <td>22.0</td>\n",
       "    </tr>\n",
       "    <tr>\n",
       "      <th>2</th>\n",
       "      <td>Battle of the Sexes</td>\n",
       "      <td>2017</td>\n",
       "      <td>$hutter</td>\n",
       "      <td>actor</td>\n",
       "      <td>Bobby Riggs Fan</td>\n",
       "      <td>10.0</td>\n",
       "    </tr>\n",
       "    <tr>\n",
       "      <th>3</th>\n",
       "      <td>Secret in Their Eyes</td>\n",
       "      <td>2015</td>\n",
       "      <td>$hutter</td>\n",
       "      <td>actor</td>\n",
       "      <td>2002 Dodger Fan</td>\n",
       "      <td>NaN</td>\n",
       "    </tr>\n",
       "    <tr>\n",
       "      <th>4</th>\n",
       "      <td>Steve Jobs</td>\n",
       "      <td>2015</td>\n",
       "      <td>$hutter</td>\n",
       "      <td>actor</td>\n",
       "      <td>1988 Opera House Patron</td>\n",
       "      <td>NaN</td>\n",
       "    </tr>\n",
       "  </tbody>\n",
       "</table>\n",
       "</div>"
      ],
      "text/plain": [
       "                  title  year      name   type                character     n\n",
       "0        Closet Monster  2015  Buffy #1  actor                  Buffy 4  31.0\n",
       "1       Suuri illusioni  1985    Homo $  actor                   Guests  22.0\n",
       "2   Battle of the Sexes  2017   $hutter  actor          Bobby Riggs Fan  10.0\n",
       "3  Secret in Their Eyes  2015   $hutter  actor          2002 Dodger Fan   NaN\n",
       "4            Steve Jobs  2015   $hutter  actor  1988 Opera House Patron   NaN"
      ]
     },
     "execution_count": 6,
     "metadata": {},
     "output_type": "execute_result"
    }
   ],
   "source": [
    "cast = pd.read_csv(\"C:/Users/chandu/Training_Practice_exercises/pandas_files/cast.csv\")\n",
    "\n",
    "cast.head()"
   ]
  },
  {
   "cell_type": "markdown",
   "id": "c29ddea7",
   "metadata": {},
   "source": [
    "# 1: Using groupby(), plot the  number of films that have been releades each decade in the history of cinema"
   ]
  },
  {
   "cell_type": "code",
   "execution_count": 16,
   "id": "ca4fc5be",
   "metadata": {},
   "outputs": [
    {
     "data": {
      "image/png": "[encoded data removed]",
      "text/plain": [
       "<Figure size 1200x600 with 1 Axes>"
      ]
     },
     "metadata": {},
     "output_type": "display_data"
    }
   ],
   "source": [
    "\n",
    "films = titles.groupby((titles[\"year\"]//10)*10).size()\n",
    "\n",
    "plt.figure(figsize=(12, 6))\n",
    "films.plot(kind=\"bar\")\n",
    "plt.xlabel('Decade')\n",
    "plt.ylabel('Number of Films Released')\n",
    "plt.title('Number of Films Released Each Decade in the History of Cinema')\n",
    "plt.xticks(rotation=45)\n",
    "plt.show()"
   ]
  },
  {
   "cell_type": "markdown",
   "id": "c3805cf5",
   "metadata": {},
   "source": [
    "# 2: Use groupby() to plot the number of \"Hamlet\" films made each decade"
   ]
  },
  {
   "cell_type": "code",
   "execution_count": 20,
   "id": "50d7ae7f",
   "metadata": {},
   "outputs": [
    {
     "data": {
      "image/png": "[encoded data removed]",
      "text/plain": [
       "<Figure size 1200x600 with 1 Axes>"
      ]
     },
     "metadata": {},
     "output_type": "display_data"
    }
   ],
   "source": [
    "films  = titles[titles[\"title\"] == \"Hamlet\"]\n",
    "hamlet = films.groupby((films[\"year\"]//10)*10).size()\n",
    "\n",
    "plt.figure(figsize=(12, 6))\n",
    "hamlet.plot(kind=\"bar\")\n",
    "plt.xlabel('Decade')\n",
    "plt.ylabel('Number of Films Released')\n",
    "plt.title('Number of Films Released Each Decade ')\n",
    "plt.xticks(rotation=45)\n",
    "plt.show()"
   ]
  },
  {
   "cell_type": "markdown",
   "id": "b2ec8c2c",
   "metadata": {},
   "source": [
    "# 3:how many leading (n=1) roles were available ot actors and how many actress, in  each year of the 1950s? "
   ]
  },
  {
   "cell_type": "code",
   "execution_count": 22,
   "id": "5f39d8b8",
   "metadata": {},
   "outputs": [
    {
     "name": "stdout",
     "output_type": "stream",
     "text": [
      "year  type   \n",
      "1950  actor      625\n",
      "      actress    288\n",
      "1951  actor      651\n",
      "      actress    285\n",
      "1952  actor      613\n",
      "      actress    304\n",
      "1953  actor      664\n",
      "      actress    312\n",
      "1954  actor      636\n",
      "      actress    316\n",
      "1955  actor      648\n",
      "      actress    285\n",
      "1956  actor      668\n",
      "      actress    307\n",
      "1957  actor      739\n",
      "      actress    315\n",
      "1958  actor      715\n",
      "      actress    301\n",
      "1959  actor      733\n",
      "      actress    327\n",
      "dtype: int64\n"
     ]
    }
   ],
   "source": [
    "roles = cast[(cast[\"year\"] >= 1950) & (cast[\"year\"]<=1959) & (cast[\"n\"]==1)]\n",
    "roles_by_year = roles.groupby([\"year\", \"type\"]).size()\n",
    "\n",
    "\n",
    "print(roles_by_year)"
   ]
  },
  {
   "cell_type": "markdown",
   "id": "c6cd1602",
   "metadata": {},
   "source": [
    "# 4: In the 1950s decade taken as a whole, how many total roles were available to actors, and how many to actress, for each n number 1 through 5?"
   ]
  },
  {
   "cell_type": "code",
   "execution_count": 23,
   "id": "ed960739",
   "metadata": {},
   "outputs": [
    {
     "name": "stdout",
     "output_type": "stream",
     "text": [
      "n         1.0     2.0     3.0     4.0     5.0     6.0     7.0     8.0    \\\n",
      "type                                                                      \n",
      "actor    6692.0  4640.0  5654.0  5663.0  5674.0  5591.0  5532.0  5302.0   \n",
      "actress  3040.0  4635.0  3201.0  2881.0  2592.0  2384.0  2069.0  1853.0   \n",
      "\n",
      "n         9.0     10.0   ...  157.0  158.0  159.0  160.0  161.0  162.0  163.0  \\\n",
      "type                     ...                                                    \n",
      "actor    4906.0  4466.0  ...    0.0    0.0    0.0    0.0    0.0    0.0    0.0   \n",
      "actress  1680.0  1523.0  ...    1.0    1.0    1.0    1.0    1.0    1.0    1.0   \n",
      "\n",
      "n        164.0  418.0  788.0  \n",
      "type                          \n",
      "actor      0.0    0.0    0.0  \n",
      "actress    1.0    1.0    1.0  \n",
      "\n",
      "[2 rows x 166 columns]\n"
     ]
    }
   ],
   "source": [
    "roles = cast[(cast[\"year\"]>=1950)&(cast[\"year\"]<=1959)]\n",
    "\n",
    "roles_n = roles.groupby([\"type\", \"n\"]).size().unstack().fillna(0)\n",
    "\n",
    "print(roles_n)"
   ]
  },
  {
   "cell_type": "markdown",
   "id": "16be145a",
   "metadata": {},
   "source": [
    "# 5: Use groupby() to determine how many roles are listed for each of the Pink Panther movies"
   ]
  },
  {
   "cell_type": "code",
   "execution_count": 24,
   "id": "36146cbd",
   "metadata": {},
   "outputs": [
    {
     "name": "stdout",
     "output_type": "stream",
     "text": [
      "title\n",
      "Curse of the Pink Panther          67\n",
      "Revenge of the Pink Panther        68\n",
      "Son of the Pink Panther            46\n",
      "The Pink Panther                  111\n",
      "The Pink Panther 2                 84\n",
      "The Pink Panther Strikes Again     70\n",
      "The Return of the Pink Panther     30\n",
      "Trail of the Pink Panther          41\n",
      "Name: character, dtype: int64\n"
     ]
    }
   ],
   "source": [
    "movies = cast[cast[\"title\"].str.contains(\"Pink Panther\", case = False, na=False)]\n",
    "roles_by_mov = movies.groupby('title')['character'].count()\n",
    "\n",
    "print(roles_by_mov)"
   ]
  },
  {
   "cell_type": "markdown",
   "id": "87fb8e7f",
   "metadata": {},
   "source": [
    "# 6: List, in order by year, each of the films in which Frank Oz has played more than 1 role"
   ]
  },
  {
   "cell_type": "code",
   "execution_count": 26,
   "id": "32dc09c4",
   "metadata": {},
   "outputs": [
    {
     "name": "stdout",
     "output_type": "stream",
     "text": [
      "title                                 year\n",
      "An American Werewolf in London        1981    2\n",
      "Follow That Bird                      1985    3\n",
      "Muppet Treasure Island                1996    4\n",
      "Muppets from Space                    1999    4\n",
      "The Adventures of Elmo in Grouchland  1999    3\n",
      "The Dark Crystal                      1982    2\n",
      "The Great Muppet Caper                1981    6\n",
      "The Muppet Christmas Carol            1992    7\n",
      "The Muppet Movie                      1979    8\n",
      "The Muppets Take Manhattan            1984    7\n",
      "dtype: int64\n"
     ]
    }
   ],
   "source": [
    "frank_roles = cast[cast['name'] == 'Frank Oz']\n",
    "\n",
    "roles_by_mov = frank_roles.groupby(['title', 'year']).size()\n",
    "multiple_roles = roles_by_mov[roles_by_mov > 1]\n",
    "\n",
    "print(multiple_roles.sort_index())"
   ]
  },
  {
   "cell_type": "markdown",
   "id": "93eb98cb",
   "metadata": {},
   "source": [
    "# 7: List each of the charactgers that frank Oz has portrayed at least twice"
   ]
  },
  {
   "cell_type": "code",
   "execution_count": 27,
   "id": "bda611df",
   "metadata": {},
   "outputs": [
    {
     "name": "stdout",
     "output_type": "stream",
     "text": [
      "character\n",
      "Animal            6\n",
      "Bert              3\n",
      "Cookie Monster    5\n",
      "Fozzie Bear       4\n",
      "Grover            2\n",
      "Miss Piggy        6\n",
      "Sam the Eagle     5\n",
      "Yoda              6\n",
      "dtype: int64\n"
     ]
    }
   ],
   "source": [
    "frank_oz_roles = cast[cast['name'] == 'Frank Oz']\n",
    "\n",
    "appearances = frank_oz_roles.groupby('character').size()\n",
    "\n",
    "twice = appearances[appearances >= 2]\n",
    "\n",
    "print(twice)"
   ]
  },
  {
   "cell_type": "code",
   "execution_count": null,
   "id": "c0a4c76b",
   "metadata": {},
   "outputs": [],
   "source": []
  }
 ],
 "metadata": {
  "kernelspec": {
   "display_name": "Python 3 (ipykernel)",
   "language": "python",
   "name": "python3"
  },
  "language_info": {
   "codemirror_mode": {
    "name": "ipython",
    "version": 3
   },
   "file_extension": ".py",
   "mimetype": "text/x-python",
   "name": "python",
   "nbconvert_exporter": "python",
   "pygments_lexer": "ipython3",
   "version": "3.11.4"
  }
 },
 "nbformat": 4,
 "nbformat_minor": 5
}
