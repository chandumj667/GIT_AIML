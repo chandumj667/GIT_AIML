{
 "cells": [
  {
   "cell_type": "markdown",
   "id": "d43d5004",
   "metadata": {},
   "source": [
    "# 1:module import and management:\n",
    "Scenaria: you are developing a complex python project with multiple modules.\n",
    "To manage the project effectively, you need to import and use various modules. Additionally, you want to orgainize  your code using namespaces and avoid naming conflicts\n",
    "\n",
    "design a python program that demonstrates the following:\n",
    "1) import multiple modules with in your project,\n",
    "2) Use the import statement to access functions, classes and variables from imported modules\n",
    "3) create your custom module and use it in yout mani program\n",
    "4) Handle naming conflicts and ensure proper namespacing\n",
    "5) Implement error handling for missing modules or incorrect module usage"
   ]
  },
  {
   "cell_type": "code",
   "execution_count": 1,
   "id": "5c4d422d",
   "metadata": {},
   "outputs": [
    {
     "name": "stderr",
     "output_type": "stream",
     "text": [
      "UsageError: Line magic function `%%writefile` not found.\n"
     ]
    }
   ],
   "source": [
    "# creating modules\n",
    "%%writefile calculator.py\n",
    "\n",
    "\n",
    "# sum function it takes two paramenters \n",
    "# and return the summation of those two\n",
    "def sum(a, b):\n",
    "    return a+b\n",
    "\n",
    "# sub function it takes two paramenters \n",
    "# and return the subtraction of those two\n",
    "def sub(a, b):\n",
    "    return abs(a-b)\n",
    "\n",
    "# mul function it takes two paramenters \n",
    "# and return the multiplication of those two\n",
    "def mul(a, b):\n",
    "    return a*b\n",
    "\n",
    "# div function it takes two paramenters \n",
    "# and return the division of those two\n",
    "\n",
    "def div(a, b):\n",
    "    try:\n",
    "        return a/b\n",
    "    except ZeroDivisionError:\n",
    "        Print(\"Divison can not be done with '0' as denominator\")\n",
    "        print(\"Enter some other number\")\n",
    "\n",
    "# fact function it takes one paramenter\n",
    "# and return the factorial of the the parameter\n",
    "def factorial(n=a):\n",
    "    if a == 0:\n",
    "        return 1\n",
    "    else:\n",
    "        return a * factorial(a - 1)\n",
    "\n",
    "\n",
    "# fib function it takes two paramenters \n",
    "# and return the fibonacci series till the number\n",
    "def fib(a):\n",
    "    if a <= 0:\n",
    "        return 0\n",
    "    elif a == 1:\n",
    "        return 1\n",
    "    else:\n",
    "        return fib(a - 1) + fib(a - 2)\n"
   ]
  },
  {
   "cell_type": "code",
   "execution_count": null,
   "id": "930bff6a",
   "metadata": {},
   "outputs": [],
   "source": []
  }
 ],
 "metadata": {
  "kernelspec": {
   "display_name": "Python 3 (ipykernel)",
   "language": "python",
   "name": "python3"
  },
  "language_info": {
   "codemirror_mode": {
    "name": "ipython",
    "version": 3
   },
   "file_extension": ".py",
   "mimetype": "text/x-python",
   "name": "python",
   "nbconvert_exporter": "python",
   "pygments_lexer": "ipython3",
   "version": "3.11.4"
  }
 },
 "nbformat": 4,
 "nbformat_minor": 5
}
