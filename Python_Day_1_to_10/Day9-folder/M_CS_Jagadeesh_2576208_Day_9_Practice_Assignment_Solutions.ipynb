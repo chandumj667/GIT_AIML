{
 "cells": [
  {
   "cell_type": "code",
   "execution_count": 1,
   "id": "bd605f23",
   "metadata": {},
   "outputs": [],
   "source": [
    "import numpy as np"
   ]
  },
  {
   "cell_type": "markdown",
   "id": "909de915",
   "metadata": {},
   "source": [
    "# 1: Create a 3x3x3 array with random values"
   ]
  },
  {
   "cell_type": "code",
   "execution_count": 6,
   "id": "65066129",
   "metadata": {},
   "outputs": [
    {
     "name": "stdout",
     "output_type": "stream",
     "text": [
      "[[[49 60 46]\n",
      "  [16 91 47]\n",
      "  [91 72 69]]\n",
      "\n",
      " [[64 64 64]\n",
      "  [28 78 60]\n",
      "  [56 11 83]]\n",
      "\n",
      " [[61 15 39]\n",
      "  [97 59 92]\n",
      "  [36 36  7]]]\n"
     ]
    }
   ],
   "source": [
    "# we need to create a 3x3x3 array with random values\n",
    "\n",
    "arr1 =  np.random.randint(1, 100, size = (3, 3, 3))\n",
    "print(arr1)"
   ]
  },
  {
   "cell_type": "markdown",
   "id": "57f442ff",
   "metadata": {},
   "source": [
    "# 2: Create a 5x5 matrix with  values 1, 2, 3, 4 just below the diagonal"
   ]
  },
  {
   "cell_type": "code",
   "execution_count": 14,
   "id": "f8588e5e",
   "metadata": {},
   "outputs": [
    {
     "name": "stdout",
     "output_type": "stream",
     "text": [
      "[[0 0 0 0 0]\n",
      " [1 0 0 0 0]\n",
      " [0 2 0 0 0]\n",
      " [0 0 3 0 0]\n",
      " [0 0 0 4 0]]\n"
     ]
    }
   ],
   "source": [
    "#  a matrix with 5x5 grid and the values should be 1, 2, 3, 4 below the diagonals\n",
    "\n",
    "# take the values as a set\n",
    "val = [1, 2, 3, 4]\n",
    "\n",
    "mat = np.zeros((5, 5), dtype = int)\n",
    "# print(mat)\n",
    "# print(\"\\n\")\n",
    "for i in range(1, 5):\n",
    "    mat[i, i-1] = val[i-1]\n",
    "print(mat)"
   ]
  },
  {
   "cell_type": "markdown",
   "id": "8593ffec",
   "metadata": {},
   "source": [
    "# 3: Create a 8x8 matrix and fill it with a checkerboard pattern"
   ]
  },
  {
   "cell_type": "code",
   "execution_count": 18,
   "id": "d9d317e3",
   "metadata": {},
   "outputs": [
    {
     "name": "stdout",
     "output_type": "stream",
     "text": [
      "[[0 1 0 1 0 1 0 1]\n",
      " [1 0 1 0 1 0 1 0]\n",
      " [0 1 0 1 0 1 0 1]\n",
      " [1 0 1 0 1 0 1 0]\n",
      " [0 1 0 1 0 1 0 1]\n",
      " [1 0 1 0 1 0 1 0]\n",
      " [0 1 0 1 0 1 0 1]\n",
      " [1 0 1 0 1 0 1 0]]\n"
     ]
    }
   ],
   "source": [
    "# check board as alternative cells have same color \n",
    "# and adjacent cells have different color\n",
    "\n",
    "board = np.zeros((8, 8), dtype=int)\n",
    "\n",
    "board[1::2, ::2] = 1\n",
    "board[::2, 1::2] = 1\n",
    "\n",
    "print(board)"
   ]
  },
  {
   "cell_type": "markdown",
   "id": "c072587d",
   "metadata": {},
   "source": [
    "# 4: Normalize a 5x5 random matrix\n"
   ]
  },
  {
   "cell_type": "code",
   "execution_count": 22,
   "id": "178c87dd",
   "metadata": {},
   "outputs": [
    {
     "name": "stdout",
     "output_type": "stream",
     "text": [
      "Original random matrix:\n",
      "[[16 75 98 76 63]\n",
      " [56  7 97 92 44]\n",
      " [11 29 41 99 33]\n",
      " [84 94 60 78 70]\n",
      " [24 19 14 78 24]]\n",
      "\n",
      "Normalized matrix:\n",
      "[[-1.27766926  0.64143681  1.3895629   0.67396403  0.25111015]\n",
      " [ 0.0234196  -1.57041425  1.35703568  1.19439957 -0.36690706]\n",
      " [-1.44030536 -0.85481538 -0.46448872  1.42209012 -0.72470649]\n",
      " [ 0.9341818   1.25945401  0.15352848  0.73901847  0.4788007 ]\n",
      " [-1.01745148 -1.18008759 -1.3427237   0.73901847 -1.01745148]]\n"
     ]
    }
   ],
   "source": [
    "mat = np.random.randint(1, 100, size = (5, 5))\n",
    "\n",
    "mean = mat.mean()\n",
    "std_dev = mat.std()\n",
    "\n",
    "# normalize the matrix formula (mat-mean)/sd\n",
    "\n",
    "normalized_mat = (mat - mean) / std_dev\n",
    "\n",
    "print(\"Original random matrix:\")\n",
    "print(mat)\n",
    "print(\"\\nNormalized matrix:\")\n",
    "print(normalized_mat)\n"
   ]
  },
  {
   "cell_type": "markdown",
   "id": "4f93d7b8",
   "metadata": {},
   "source": [
    "# 5: How to find common values between two arrays?"
   ]
  },
  {
   "cell_type": "code",
   "execution_count": 24,
   "id": "3999ea66",
   "metadata": {},
   "outputs": [
    {
     "name": "stdout",
     "output_type": "stream",
     "text": [
      "Enter the size of the arrays: 10\n",
      "Enter the 10 elements in to the arr1: 3 4 29 12 20 65 38 89 24 55\n",
      "Enter the 10 elements in to the arr2: 7 8 90 23 29 24 3 12 89 5 22\n",
      "Common values between array1 and array2:\n",
      "[ 3 12 24 29 89]\n"
     ]
    }
   ],
   "source": [
    "n = int(input(\"Enter the size of the arrays: \"))\n",
    "arr1 = []\n",
    "arr2 = []\n",
    "\n",
    "arr1 = [int(ele) for ele in (input(f\"Enter the {n} elements in to the arr1: \").split())]\n",
    "arr2 = [int(ele) for ele in (input(f\"Enter the {n} elements in to the arr2: \").split())]\n",
    "\n",
    "\n",
    "array1 = np.array(arr1)\n",
    "array2 = np.array(arr2)\n",
    "\n",
    "cmn_vals = np.intersect1d(array1, array2)\n",
    "\n",
    "print(\"Common values between array1 and array2:\")\n",
    "print(cmn_vals)\n"
   ]
  },
  {
   "cell_type": "markdown",
   "id": "8edf5248",
   "metadata": {},
   "source": [
    "# 6: How to get the dates of yesterday, today and tommorow?"
   ]
  },
  {
   "cell_type": "code",
   "execution_count": 31,
   "id": "1f564841",
   "metadata": {},
   "outputs": [
    {
     "name": "stdout",
     "output_type": "stream",
     "text": [
      "\n",
      "NumPy Datetime Objects:\n",
      "Yesterday\t:  2023-09-20T15:26:18.019541\n",
      "Today\t\t:  2023-09-21T15:26:18.019541\n",
      "Tomorrow\t:  2023-09-22T15:26:18.019541\n"
     ]
    }
   ],
   "source": [
    "from datetime import datetime, timedelta\n",
    "\n",
    "today = datetime.now()\n",
    "\n",
    "# if we need yesterday we have to do -1 if tomorrow we have to do +1 for today \n",
    "yesterday = today - timedelta(days=1)\n",
    "tomorrow = today + timedelta(days=1)\n",
    "\n",
    "today_np = np.datetime64(today)\n",
    "yesterday_np = np.datetime64(yesterday)\n",
    "tomorrow_np = np.datetime64(tomorrow)\n",
    "\n",
    "\n",
    "print(\"\\nNumPy Datetime Objects:\")\n",
    "print(\"Yesterday\\t: \", yesterday_np)\n",
    "print(\"Today\\t\\t: \", today_np)\n",
    "print(\"Tomorrow\\t: \", tomorrow_np)\n"
   ]
  },
  {
   "cell_type": "markdown",
   "id": "5a1bf877",
   "metadata": {},
   "source": [
    "# 7: Consider two random arrayA and arrqayB, check if they are equal"
   ]
  },
  {
   "cell_type": "code",
   "execution_count": 39,
   "id": "538ed62c",
   "metadata": {},
   "outputs": [
    {
     "name": "stdout",
     "output_type": "stream",
     "text": [
      "Enter the size of the array: 10\n",
      "array1: [ 6  1 18 15 14 10 19  4 12  4]\n",
      "\n",
      "array2: [18  3  9  3  3  6  5 18 17  3]\n",
      "\n",
      "Both array are not equal\n"
     ]
    }
   ],
   "source": [
    "n = int(input(\"Enter the size of the array: \"))\n",
    "arr1 =np.random.randint(1, 20, n)\n",
    "arr2 = np.random.randint(1, 20, n)\n",
    "\n",
    "print(f\"array1: {arr1}\\n\")\n",
    "print(f\"array2: {arr2}\\n\")\n",
    "flag = np.array_equal(arr1, arr2)\n",
    "if flag:\n",
    "    print(\"Both the arrays are equal\")\n",
    "else:\n",
    "    print(\"Both array are not equal\")\n"
   ]
  },
  {
   "cell_type": "markdown",
   "id": "8083eb10",
   "metadata": {},
   "source": [
    "# 8: Crreate random vector of size 10 and replace the maximum value by 0"
   ]
  },
  {
   "cell_type": "code",
   "execution_count": 48,
   "id": "71cf210f",
   "metadata": {},
   "outputs": [
    {
     "name": "stdout",
     "output_type": "stream",
     "text": [
      "Random vector\t\t: [56 14 19 44 21 43 59 71 24 51]\n",
      "maximum element \t: 71\n",
      "replaced with zero\t: [56 14 19 44 21 43 59  0 24 51]\n"
     ]
    }
   ],
   "source": [
    "random_vec = np.random.randint(1,100, 10)\n",
    "print(f\"Random vector\\t\\t: {random_vec}\")\n",
    "maxi = np.argmax(random_vec)\n",
    "\n",
    "print(f\"maximum element \\t: {random_vec[maxi]}\")\n",
    "random_vec[maxi] = 0\n",
    "\n",
    "# print(\"Random Vector with Maximum Value Replaced:\")\n",
    "print(f\"replaced with zero\\t: {random_vec}\")"
   ]
  },
  {
   "cell_type": "markdown",
   "id": "52b1446d",
   "metadata": {},
   "source": [
    "# 9: How to print all the values of an array?"
   ]
  },
  {
   "cell_type": "code",
   "execution_count": 55,
   "id": "9918ac32",
   "metadata": {},
   "outputs": [
    {
     "name": "stdout",
     "output_type": "stream",
     "text": [
      "62 72 59 32 72 74 86 68 19 71 47 46 55 60 31 "
     ]
    }
   ],
   "source": [
    "arr = np.random.randint(1, 100, 15)\n",
    "for ele in arr:\n",
    "    print(ele, end=\" \")"
   ]
  },
  {
   "cell_type": "markdown",
   "id": "e3d004cf",
   "metadata": {},
   "source": [
    "# 10: Subtract the mean of each row of matrix"
   ]
  },
  {
   "cell_type": "code",
   "execution_count": 63,
   "id": "e040805a",
   "metadata": {},
   "outputs": [
    {
     "name": "stdout",
     "output_type": "stream",
     "text": [
      "Means:\n",
      " [[20.6]\n",
      " [31.2]\n",
      " [16.6]\n",
      " [29. ]\n",
      " [22.8]]\n",
      "\n",
      "Original Matrix:\n",
      "[[ 2 49 34 12  6]\n",
      " [45 27 25 38 21]\n",
      " [10 28 10 31  4]\n",
      " [27  9 31 31 47]\n",
      " [ 4  5 36 26 43]]\n",
      "\n",
      "\n",
      "Matrix after subtracting row means:\n",
      "[[-18.6  28.4  13.4  -8.6 -14.6]\n",
      " [ 13.8  -4.2  -6.2   6.8 -10.2]\n",
      " [ -6.6  11.4  -6.6  14.4 -12.6]\n",
      " [ -2.  -20.    2.    2.   18. ]\n",
      " [-18.8 -17.8  13.2   3.2  20.2]]\n",
      "\n",
      "\n"
     ]
    }
   ],
   "source": [
    "mat = np.random.randint(1, 50, size = (5, 5))\n",
    "\n",
    "row_means = np.mean(mat, axis=1, keepdims=True)\n",
    "\n",
    "matrix_means = mat - row_means\n",
    "print(f\"Means:\\n {row_means}\\n\")\n",
    "print(f\"Original Matrix:\\n{mat}\\n\")\n",
    "print(f\"\\nMatrix after subtracting row means:\\n{matrix_means}\\n\")\n",
    "print()"
   ]
  },
  {
   "cell_type": "markdown",
   "id": "699692c3",
   "metadata": {},
   "source": [
    "# 11: Consider a given vector, how to add 1 to each element indexed by a second vector (be careful with repeated indices)?"
   ]
  },
  {
   "cell_type": "code",
   "execution_count": 66,
   "id": "eaaf5ce5",
   "metadata": {},
   "outputs": [
    {
     "name": "stdout",
     "output_type": "stream",
     "text": [
      "Enter the size of the vector: 5\n",
      "Enter 5 elements in to the: 87 34 86 234 1267\n",
      "Ente the indices values where +1 want: 0 2 4\n",
      "After +1 for \n",
      "[87, 34, 86, 234, 1267]\n",
      "\n",
      "on indices of\n",
      "\n",
      "[0 2 4]\n",
      "\n",
      "the result array is \n",
      "[  88   34   87  234 1268]\n"
     ]
    }
   ],
   "source": [
    "n = int(input(\"Enter the size of the vector: \"))\n",
    "arr = [int(ele) for ele in(input(f\"Enter {n} elements in to the: \").split())]\n",
    "\n",
    "arr2 = [int(ele) for ele in(input(f\"Ente the indices values where +1 want: \").split())]\n",
    "\n",
    "arr1 = np.array(arr)\n",
    "arr2 = np.array(arr2)\n",
    "\n",
    "index = np.unique(arr2)\n",
    "arr1[arr2] += 1\n",
    "\n",
    "print(f\"After +1 for \\n{arr}\\n\\non indices of\\n\\n{arr2}\\n\\nthe result array is \\n{arr1}\")"
   ]
  },
  {
   "cell_type": "markdown",
   "id": "31f5caa2",
   "metadata": {},
   "source": [
    "# 12: How to get the diagonal of a dot product?"
   ]
  },
  {
   "cell_type": "code",
   "execution_count": 70,
   "id": "0c9352da",
   "metadata": {},
   "outputs": [
    {
     "name": "stdout",
     "output_type": "stream",
     "text": [
      "\n",
      "[[1 2 3]\n",
      " [4 5 6]\n",
      " [7 8 9]]\n",
      "\n",
      "[[10 11 12]\n",
      " [13 14 15]\n",
      " [16 17 18]]\n",
      "\n",
      "\n",
      "Dot Product Matrix:\n",
      "\n",
      "[[ 84  90  96]\n",
      " [201 216 231]\n",
      " [318 342 366]]\n",
      "\n",
      "Diagonal Elements of Dot Product:\n",
      "\n",
      "[ 84 216 366]\n"
     ]
    }
   ],
   "source": [
    "# let us take two matrices\n",
    "\n",
    "mat1 = np.array([[1, 2, 3],\n",
    "              [4, 5, 6],\n",
    "              [7, 8, 9]])\n",
    "\n",
    "mat2= np.array([[10, 11, 12],\n",
    "              [13, 14, 15],\n",
    "              [16, 17, 18]])\n",
    "\n",
    "mat_dot = np.dot(mat1, mat2)\n",
    "\n",
    "diag_values = np.diag(mat_dot)\n",
    "print(f\"\\n{mat1}\\n\\n{mat2}\\n\\n\")\n",
    "print(f\"Dot Product Matrix:\\n\\n{mat_dot}\")\n",
    "print(f\"\\nDiagonal Elements of Dot Product:\\n\\n{diag_values}\")\n"
   ]
  },
  {
   "cell_type": "markdown",
   "id": "033f78bb",
   "metadata": {},
   "source": [
    "# 13: How to find the most frequent value in an array?\n",
    "\tx = np.random.randint(0, 10, 50)"
   ]
  },
  {
   "cell_type": "code",
   "execution_count": 72,
   "id": "821995b8",
   "metadata": {},
   "outputs": [
    {
     "name": "stdout",
     "output_type": "stream",
     "text": [
      "Array: \n",
      "[1 9 3 0 5 5 9 9 5 0 3 4 8 9 7 7 4 5 7 5 2 0 2 2 4 0 4 2 4 7 1 5 1 3 2 2 2\n",
      " 6 4 6 2 1 7 2 5 5 7 0 2 3]\n",
      "\n",
      "\n",
      "Most frequent element in the array is:\n",
      "2 \n"
     ]
    }
   ],
   "source": [
    "x = np.random.randint(0, 10, 50)\n",
    "\n",
    "cnt = np.bincount(x)\n",
    "\n",
    "maxi = np.argmax(cnt)\n",
    "\n",
    "print(f\"Array: \\n{x}\\n\\n\")\n",
    "print(f\"Most frequent element in the array is:\\n{maxi} \")"
   ]
  },
  {
   "cell_type": "markdown",
   "id": "d64711f6",
   "metadata": {},
   "source": [
    "# 14: how to get the n largest values of an array"
   ]
  },
  {
   "cell_type": "code",
   "execution_count": 78,
   "id": "10616a25",
   "metadata": {},
   "outputs": [
    {
     "name": "stdout",
     "output_type": "stream",
     "text": [
      "Enter the number of largest elements needed: 5\n",
      "The array is \t\t: [ 5 38 51 39 81 69 60 97 16 50 61 98 89 10  3]\n",
      "largest 5 elements are\t: [69 81 89 97 98]\n"
     ]
    }
   ],
   "source": [
    "n = int(input(\"Enter the number of largest elements needed: \"))\n",
    "\n",
    "arr = np.random.randint(1, 100, 15)\n",
    "\n",
    "values = np.partition(arr, -n)[-n:]\n",
    "print(f\"The array is \\t\\t: {arr}\")\n",
    "print(f\"largest {n} elements are\\t: {values}\")"
   ]
  },
  {
   "cell_type": "markdown",
   "id": "03a7c479",
   "metadata": {},
   "source": [
    "# 15: how to create a record array from a regular array?"
   ]
  },
  {
   "cell_type": "code",
   "execution_count": 91,
   "id": "2bc8bfe5",
   "metadata": {},
   "outputs": [
    {
     "name": "stdout",
     "output_type": "stream",
     "text": [
      "Structured Array:\n",
      "[(1, 'Chandu', 30) (2, 'Jagadeesh', 40) (3, 'Michael', 50)]\n",
      "\n",
      "Elements by Field Name:\n",
      "ID\t: [1 2 3]\n",
      "Name\t: ['Chandu' 'Jagadeesh' 'Michael']\n",
      "Age\t: [30 40 50]\n"
     ]
    }
   ],
   "source": [
    "\n",
    "regular = [(1, \"Chandu\", 30),\n",
    "           (2, \"Jagadeesh\", 40),\n",
    "           (3, \"Michael\", 50)]\n",
    "\n",
    "datatype = [(\"ID\", int), (\"Name\", 'U10'), (\"Age\", int)]\n",
    "\n",
    "structured_array = np.array(regular, dtype=datatype)\n",
    "\n",
    "print(\"Structured Array:\")\n",
    "print(structured_array)\n",
    "\n",
    "print(\"\\nElements by Field Name:\")\n",
    "print(\"ID\\t:\", structured_array['ID'])\n",
    "print(\"Name\\t:\", structured_array['Name'])\n",
    "print(\"Age\\t:\", structured_array['Age'])\n"
   ]
  },
  {
   "cell_type": "markdown",
   "id": "29aa77c0",
   "metadata": {},
   "source": [
    "# 16: How to swap two rows of an array?"
   ]
  },
  {
   "cell_type": "code",
   "execution_count": 97,
   "id": "75a095dc",
   "metadata": {},
   "outputs": [
    {
     "name": "stdout",
     "output_type": "stream",
     "text": [
      "Before Swapping:\n",
      "\n",
      "[[ 1  2  2  4]\n",
      " [11 12 13 14]\n",
      " [21 22 23 24]\n",
      " [31 32 33 34]]\n",
      "\n",
      "After Swapping:\n",
      "\n",
      "[[21 22 23 24]\n",
      " [11 12 13 14]\n",
      " [ 1  2  2  4]\n",
      " [31 32 33 34]]\n"
     ]
    }
   ],
   "source": [
    "arr = np.array([[1, 2, 2, 4],\n",
    "                [11, 12, 13, 14],\n",
    "                [21, 22, 23 ,24],\n",
    "                [31, 32, 33, 34]])\n",
    "\n",
    "print(f\"Before Swapping:\\n\\n{arr}\")\n",
    "temp = arr[0].copy()\n",
    "arr[0] = arr[2]\n",
    "arr[2] = temp\n",
    "\n",
    "print(f\"\\nAfter Swapping:\\n\\n{arr}\")\n"
   ]
  },
  {
   "cell_type": "markdown",
   "id": "be87ce5a",
   "metadata": {},
   "source": [
    "# 17: Write python code to reshape to the next dimension of numpy array?\n",
    "\tx = np.array([[23, 34, 121], [23, 22, 67], [686, 434, 123]])"
   ]
  },
  {
   "cell_type": "code",
   "execution_count": 99,
   "id": "01cc4e2c",
   "metadata": {},
   "outputs": [
    {
     "name": "stdout",
     "output_type": "stream",
     "text": [
      "Before Re-shaping:\n",
      "\n",
      "[[ 23  34 121]\n",
      " [ 23  22  67]\n",
      " [686 434 123]]\n",
      "\n",
      "[[[ 23]\n",
      "  [ 34]\n",
      "  [121]]\n",
      "\n",
      " [[ 23]\n",
      "  [ 22]\n",
      "  [ 67]]\n",
      "\n",
      " [[686]\n",
      "  [434]\n",
      "  [123]]]\n"
     ]
    }
   ],
   "source": [
    "x = np.array([[23, 34, 121], \n",
    "              [23, 22, 67], \n",
    "              [686, 434, 123]])\n",
    "\n",
    "print(f\"Before Re-shaping:\\n\\n{x}\\n\")\n",
    "x = x.reshape(x.shape[0], x.shape[1], 1)\n",
    "print(x)"
   ]
  },
  {
   "cell_type": "code",
   "execution_count": null,
   "id": "816006cb",
   "metadata": {},
   "outputs": [],
   "source": []
  }
 ],
 "metadata": {
  "kernelspec": {
   "display_name": "Python 3 (ipykernel)",
   "language": "python",
   "name": "python3"
  },
  "language_info": {
   "codemirror_mode": {
    "name": "ipython",
    "version": 3
   },
   "file_extension": ".py",
   "mimetype": "text/x-python",
   "name": "python",
   "nbconvert_exporter": "python",
   "pygments_lexer": "ipython3",
   "version": "3.11.4"
  }
 },
 "nbformat": 4,
 "nbformat_minor": 5
}
