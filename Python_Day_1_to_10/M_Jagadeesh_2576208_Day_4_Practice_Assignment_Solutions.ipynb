{
 "cells": [
  {
   "cell_type": "markdown",
   "id": "b4c84959",
   "metadata": {},
   "source": [
    "# 1: Write a python program with Exception handling\n",
    "    To input marks for five subjects Physics. Chemistry, Biology, Mathematics,\n",
    "    and Computer.\n",
    "    Calculate the percentage and grade according to the following:\n",
    "    i) percentage >= 90%: Grade A\n",
    "    ii) percentage >= 80%: Grade B\n",
    "    iii) percentage >= 70%: Grade C\n",
    "    iv) percentage >= 60%: Grade D\n",
    "    v) percentage >= 40%: Grade E\n",
    "    vi) percentage < 40%: Grade F        \n",
    "\n"
   ]
  },
  {
   "cell_type": "code",
   "execution_count": 4,
   "id": "5dc205ae",
   "metadata": {},
   "outputs": [
    {
     "name": "stdout",
     "output_type": "stream",
     "text": [
      "Enter Physics marks: fewqw\n",
      "Invalid input. Please enter valid numeric marks.\n"
     ]
    }
   ],
   "source": [
    "def Percentage_calc():\n",
    "\n",
    "    try:\n",
    "        Physics = float(input(\"Enter Physics marks: \"))\n",
    "        Chemistry = float(input(\"Enter Chemistry marks: \"))\n",
    "        Biology = float(input(\"Enter Biology marks: \"))\n",
    "        Mathematics = float(input(\"Enter Mathematics marks: \"))\n",
    "        Computer = float(input(\"Enter Computer marks: \"))\n",
    "\n",
    "        sub_count = 5\n",
    "\n",
    "        Total_marks = Physics + Chemistry + Biology + Mathematics + Computer\n",
    "        Percentage = (Total_marks / (sub_count*100)) * 100\n",
    "\n",
    "        if Percentage >= 90:\n",
    "            Grade = \"Grade A\"\n",
    "        elif Percentage >= 80:\n",
    "            Grade = \"Grade B\"\n",
    "        elif Percentage >= 70:\n",
    "            Grade = \"Grade C\"\n",
    "        elif Percentage >= 60:\n",
    "            Grade = \"Grade D\"\n",
    "        elif Percentage >= 40:\n",
    "            Grade = \"Grade E\"\n",
    "        else:\n",
    "            Grade = \"Grade F\"\n",
    "\n",
    "        print(f\"Percentage: {Percentage:.3f}% \")\n",
    "        print(f\"Grade: {Grade}\")\n",
    "\n",
    "    except ValueError:\n",
    "        print(\"Invalid input. Please enter valid numeric marks.\")\n",
    "    except Exception as e:\n",
    "        print(f\"An error occurred: {e}\")\n",
    "\n",
    "\n",
    "Percentage_calc()"
   ]
  },
  {
   "cell_type": "markdown",
   "id": "968cb25f",
   "metadata": {},
   "source": [
    "# 2: Write a python program with Exception handling to input Electricity unit charges\n",
    "    and calculate the total electricity bill according to the given condition\n",
    "    \n",
    "    i) For the first 50 units Rs. 0.50/unit\n",
    "    ii) For the first 100 units Rs. 0.75/unit    \n",
    "    iii) For the first 100 units Rs. 1.20/unit    \n",
    "    iv) For the first 250 units Rs. 1.50/unit    \n",
    "    v) An additional surcharge of 20% is added to the bill    "
   ]
  },
  {
   "cell_type": "code",
   "execution_count": 5,
   "id": "5d1eba4b",
   "metadata": {},
   "outputs": [
    {
     "name": "stdout",
     "output_type": "stream",
     "text": [
      "Enter the num of units: 25o\n",
      "Invalid input\n",
      "Enter a valid numeric value\n"
     ]
    }
   ],
   "source": [
    "def electricity_bill():\n",
    "    try:\n",
    "        units = float(input(\"Enter the num of units: \"))\n",
    "        bill = 0.0\n",
    "        surcharge = 0.0\n",
    "\n",
    "        if units <= 50:\n",
    "            bill = units * 0.50\n",
    "        elif units <= 100:\n",
    "            bill = 50 * 0.50 + (units-50)* 0.75\n",
    "        elif units <= 200:\n",
    "            bill = 50 * 0.50 + 50* 0.75 +(units-100)*1.20\n",
    "        else:\n",
    "            bill = 50 * 0.50 + 50 * 0.75 + 100 * 1.20 +(units-200) * 1.50\n",
    "\n",
    "        surcharge = bill * 0.20\n",
    "        \n",
    "        total = bill + surcharge\n",
    "        \n",
    "        print(f\"Total Bill for {units} is: Rs. {total:.3f}\")\n",
    "        \n",
    "    except ValueError:\n",
    "        print(\"Invalid input\")\n",
    "        print(\"Enter a valid numeric value\")\n",
    "        \n",
    "    except Exception as e:\n",
    "        print(f\"An error occured: {e}\")\n",
    "    \n",
    "    \n",
    "    \n",
    "\n",
    "electricity_bill()"
   ]
  },
  {
   "cell_type": "markdown",
   "id": "f95c5440",
   "metadata": {},
   "source": [
    "# 3: write a python program with Exception handling \n",
    "    to input the week number and print the respectiveweekday"
   ]
  },
  {
   "cell_type": "code",
   "execution_count": 2,
   "id": "46de277b",
   "metadata": {},
   "outputs": [
    {
     "name": "stdout",
     "output_type": "stream",
     "text": [
      "Enter the Day number in the week: 6\n",
      " Day6 in a week is: Saturday\n"
     ]
    }
   ],
   "source": [
    "def week_day():\n",
    "    try:\n",
    "        week_number = int(input(\"Enter the Day number in the week: \"))\n",
    "        \n",
    "        Days = [\"Monday\", \"Tuesday\", \"Wednesday\", \"Thursday\", \"Friday\", \"Saturday\", \"Sunday\"]\n",
    "        \n",
    "        if 1<=week_number and week_number<=7:\n",
    "            print(f\" Day{week_number} in a week is: {Days[week_number-1]}\")\n",
    "        else:\n",
    "            print(\"Enter the week number between 1 to 7\")\n",
    "    \n",
    "    except ValueError:\n",
    "        print(\"Invalid input\")\n",
    "        print(\"enter a valid week number 1 to 7\")\n",
    "        \n",
    "    except SyntaxError:\n",
    "        print(\"Invalid Syntax in the code\")\n",
    "    \n",
    "    except Exception as e:\n",
    "        print(f\"An error occurred: {e}\")\n",
    "        \n",
    "\n",
    "week_day()\n",
    "        "
   ]
  },
  {
   "cell_type": "markdown",
   "id": "a67e28de",
   "metadata": {},
   "source": [
    "# 4: Write a python program to implement word count using command line arguments\n",
    "    i) create a text document \"apple.txt\" which contains text for wordcount\n",
    "    ii) create a wordcount program which call the \"apple.txt\" document by opening the file\n",
    "    iii) If the word is present again in the \"apple.txt\", \n",
    "    the wordcount is incremented by 1 until all the words are counted in the document\n",
    "    iv) close the file\n",
    "    v) create a command.py program which imports the wordcount.py program\n",
    "    vi) count the number of words using command line argumnets\n",
    "    vii)  print each word and its count\n",
    "    \n",
    "    coded this one using python idle \n",
    "    and saved as sixthQ_file.py in the same directory \n",
    "    It compiled successfully and display the output \n",
    "    "
   ]
  },
  {
   "cell_type": "markdown",
   "id": "14579ad3",
   "metadata": {},
   "source": [
    "# 5: Write a python program \n",
    "    for finding the most frequent words in a text read from a file\n",
    "    i) Initially open the text file in read mode\n",
    "    ii) make all the letters in the document into lowercase letters \n",
    "    and spilit the words in each line\n",
    "    iii) get the words in an order\n",
    "    iv) sort the words for finding the most frequent words in the file\n",
    "    v) print the most frequent words in the file"
   ]
  },
  {
   "cell_type": "code",
   "execution_count": 7,
   "id": "9191f5f4",
   "metadata": {},
   "outputs": [
    {
     "name": "stdout",
     "output_type": "stream",
     "text": [
      "how many number of frequent words: 13\n",
      "Top 13 most frequent words in 'C:/Users/chandu/OneDrive/Desktop/unnamed/thirdQ_file1.txt':\n",
      "1. and: 19 times\n",
      "2. to: 14 times\n",
      "3. the: 12 times\n",
      "4. of: 8 times\n",
      "5. ml: 7 times\n",
      "6. ai: 6 times\n",
      "7. in: 6 times\n",
      "8. are: 5 times\n",
      "9. algorithms: 4 times\n",
      "10. data: 4 times\n",
      "11. that: 3 times\n",
      "12. a: 3 times\n",
      "13. intelligence: 2 times\n"
     ]
    }
   ],
   "source": [
    "def most_freq(input_file):\n",
    "    try:\n",
    "        num_words = int(input(\"how many number of frequent words: \"))\n",
    "        with open(input_file, 'r') as inp:\n",
    "            line = inp.read()\n",
    "\n",
    "        words = line.lower().split()\n",
    "\n",
    "        word_freq = {}\n",
    "        for word in words:\n",
    "            if word in word_freq:\n",
    "                word_freq[word] += 1\n",
    "            else:\n",
    "                word_freq[word] = 1\n",
    "\n",
    "        sorted_words = sorted(word_freq.items(), key=lambda x: x[1], reverse=True)\n",
    "\n",
    "        print(f\"Top {num_words} most frequent words in '{input_file}':\")\n",
    "        for i, (word, freq) in enumerate(sorted_words[:num_words], 1):\n",
    "            print(f\"{i}. {word}: {freq} times\")\n",
    "\n",
    "    except FileNotFoundError:\n",
    "        print(f\"File '{input_file}' not found.\")\n",
    "    except Exception as e:\n",
    "        print(f\"An error occurred: {e}\")\n",
    "\n",
    "# if __name__ == \"__main__\":\n",
    "input_file = \"C:/Users/chandu/OneDrive/Desktop/unnamed/thirdQ_file1.txt\"\n",
    "most_freq(input_file)\n"
   ]
  },
  {
   "cell_type": "markdown",
   "id": "83292755",
   "metadata": {},
   "source": [
    "# 6: File Processing with command line arguments  scenario:\n",
    "    You are developing a command line utility that process text files\n",
    "    Users can specify input and output file paths as commadn line arguments\n",
    "    Your program should handle exception graecefully\n",
    "    \n",
    "    i) Design a python program that takes two command-line arguments:\n",
    "    the input file path and the output file path.\n",
    "    Ensure that the program checks if both arguments are provided and that\n",
    "    the input file exits\n",
    "    \n",
    "    ii)Implement error handling to deal with sccenario \n",
    "    such as missing input files, invalid file paths, or permission issues\n",
    "    when writing to the output file\n",
    "    \n",
    "    iii) If an error occurs during file processing display a user friendly\n",
    "    error message and exit the program with non-zero exit code\n",
    "    \n",
    "    iv) write test cases that cover various senarios, \n",
    "    including providing valid and invalid file paths as \n",
    "    command-line arguments\n",
    "    \n",
    "    coded this one using python idle \n",
    "    and saved as sixthQ_file.py in the same directory \n",
    "    It compiled successfully, processed the data \n",
    "    from input_file (D2lastQ_file1.txt) to output_file (D2lastQ_file2.txt)"
   ]
  },
  {
   "cell_type": "code",
   "execution_count": null,
   "id": "d6332214",
   "metadata": {},
   "outputs": [],
   "source": []
  }
 ],
 "metadata": {
  "kernelspec": {
   "display_name": "Python 3 (ipykernel)",
   "language": "python",
   "name": "python3"
  },
  "language_info": {
   "codemirror_mode": {
    "name": "ipython",
    "version": 3
   },
   "file_extension": ".py",
   "mimetype": "text/x-python",
   "name": "python",
   "nbconvert_exporter": "python",
   "pygments_lexer": "ipython3",
   "version": "3.11.4"
  }
 },
 "nbformat": 4,
 "nbformat_minor": 5
}
