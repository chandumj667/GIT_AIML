{
 "cells": [
  {
   "cell_type": "markdown",
   "id": "131a2708",
   "metadata": {},
   "source": [
    "# 1 Manipulating using a list"
   ]
  },
  {
   "cell_type": "code",
   "execution_count": 1,
   "id": "0422b700",
   "metadata": {},
   "outputs": [],
   "source": [
    "# in this we are dealing with list so create a list\n",
    "list =[\"Chadra\", \"Sai\", \"Jagadeesh\", 2576208]"
   ]
  },
  {
   "cell_type": "code",
   "execution_count": 2,
   "id": "6afdc1e3",
   "metadata": {},
   "outputs": [
    {
     "name": "stdout",
     "output_type": "stream",
     "text": [
      "['Chadra', 'Sai', 'Jagadeesh', 2576208]\n"
     ]
    }
   ],
   "source": [
    "print(list)"
   ]
  },
  {
   "cell_type": "code",
   "execution_count": 3,
   "id": "211a05a6",
   "metadata": {},
   "outputs": [
    {
     "name": "stdout",
     "output_type": "stream",
     "text": [
      "['Chadra', 'Sai', 'Jagadeesh', 2576208, 'Day-1']\n"
     ]
    }
   ],
   "source": [
    "# i) To add new elements to the end of the list\n",
    "\n",
    "list.append(\"Day-1\")\n",
    "# using append to add an element in the last of the  list \n",
    "\n",
    "print(list)"
   ]
  },
  {
   "cell_type": "code",
   "execution_count": 4,
   "id": "33075cfa",
   "metadata": {},
   "outputs": [
    {
     "name": "stdout",
     "output_type": "stream",
     "text": [
      "['Day-1', 2576208, 'Jagadeesh', 'Sai', 'Chadra']\n"
     ]
    }
   ],
   "source": [
    "# ii) To reverse the elements in the list\n",
    "\n",
    "list.reverse()\n",
    "# to reverse the elements in the list we used the reverse()\n",
    "\n",
    "print(list) "
   ]
  },
  {
   "cell_type": "code",
   "execution_count": 5,
   "id": "43d8a333",
   "metadata": {},
   "outputs": [
    {
     "name": "stdout",
     "output_type": "stream",
     "text": [
      "Enter the number of time to repeat5\n",
      "['Chadra', 'Sai', 'Jagadeesh', 2576208, 'Day-1']\n",
      "['Chadra', 'Sai', 'Jagadeesh', 2576208, 'Day-1']\n",
      "['Chadra', 'Sai', 'Jagadeesh', 2576208, 'Day-1']\n",
      "['Chadra', 'Sai', 'Jagadeesh', 2576208, 'Day-1']\n",
      "['Chadra', 'Sai', 'Jagadeesh', 2576208, 'Day-1']\n"
     ]
    }
   ],
   "source": [
    "list.reverse()\n",
    "# iii) To display the same list of elements multiple times\n",
    "\n",
    "\n",
    "no_of_times = int(input(\"Enter the number of time to repeat\"))\n",
    "\n",
    "#to display the same list elements multiple times we need to use Loops or multiplication\n",
    "\n",
    "for rep in range(no_of_times):\n",
    "    print(list)"
   ]
  },
  {
   "cell_type": "code",
   "execution_count": 6,
   "id": "44d2c252",
   "metadata": {},
   "outputs": [
    {
     "name": "stdout",
     "output_type": "stream",
     "text": [
      "[1, 2, 3, 4, 5, 'a', 'b', 'c', 'd']\n"
     ]
    }
   ],
   "source": [
    "# iv) To concatenate two list\n",
    "listA = [1, 2, 3, 4, 5]\n",
    "listB = ['a', 'b', 'c', 'd']\n",
    "\n",
    "# to concatinate the two lists we use (+) operator and also expand()\n",
    "result_list = listA+listB\n",
    "\n",
    "# listA.expend(listB)\n",
    "\n",
    "print(result_list)"
   ]
  },
  {
   "cell_type": "code",
   "execution_count": 7,
   "id": "e02e88ce",
   "metadata": {},
   "outputs": [
    {
     "name": "stdout",
     "output_type": "stream",
     "text": [
      "[24, 32, 43, 54, 55, 76, 100]\n"
     ]
    }
   ],
   "source": [
    "# v) To sort the elements in the list in ascending order\n",
    "\n",
    "listC = [100, 32, 54, 24, 76, 43, 55]\n",
    "\n",
    "listC.sort() \n",
    "# to sort the list we use sort() fun \n",
    "print(listC)"
   ]
  },
  {
   "cell_type": "markdown",
   "id": "11d6107f",
   "metadata": {},
   "source": [
    "#    # 2 Write a python program to do in the tuples"
   ]
  },
  {
   "cell_type": "code",
   "execution_count": 8,
   "id": "9216bcfe",
   "metadata": {},
   "outputs": [
    {
     "name": "stdout",
     "output_type": "stream",
     "text": [
      "('ram', 'sita', 'lakshman', 'hanuma')\n"
     ]
    }
   ],
   "source": [
    "# In this we are using tuples\n",
    "tup = (\"ram\", \"sita\", \"lakshman\", \"hanuma\")\n",
    "print(tup)"
   ]
  },
  {
   "cell_type": "code",
   "execution_count": 9,
   "id": "61822a85",
   "metadata": {},
   "outputs": [
    {
     "name": "stdout",
     "output_type": "stream",
     "text": [
      "('ram', 'sita', 'lakshman', 'hanuma', 'Ayodhya')\n"
     ]
    }
   ],
   "source": [
    "# i) Manipulate using tuples\n",
    "tup = tup + (\"Ayodhya\",) \n",
    "#used tuple concatenate to add an element in to the tuple\n",
    "print(tup)"
   ]
  },
  {
   "cell_type": "code",
   "execution_count": 10,
   "id": "3528123d",
   "metadata": {},
   "outputs": [
    {
     "name": "stdout",
     "output_type": "stream",
     "text": [
      "('ram', 'sita', 'lakshman', 'hanuma', 'Ayodhya', 'krishna', 'Radha', 'balram', 'Yashoda')\n"
     ]
    }
   ],
   "source": [
    "# ii) To add new elements to the end of the tuples\n",
    "tup2 = (\"krishna\", \"Radha\", \"balram\", \"Yashoda\")\n",
    "tup = tup + tup2\n",
    "print(tup)"
   ]
  },
  {
   "cell_type": "code",
   "execution_count": 11,
   "id": "b5eca520",
   "metadata": {},
   "outputs": [
    {
     "name": "stdout",
     "output_type": "stream",
     "text": [
      "('Yashoda', 'balram', 'Radha', 'krishna', 'Ayodhya', 'hanuma', 'lakshman', 'sita', 'ram')\n"
     ]
    }
   ],
   "source": [
    "# iii) revese the elements in it\n",
    "print(tup[::-1])\n",
    "# we used indexing to reverse the elements"
   ]
  },
  {
   "cell_type": "code",
   "execution_count": 12,
   "id": "11b6ca74",
   "metadata": {},
   "outputs": [
    {
     "name": "stdout",
     "output_type": "stream",
     "text": [
      "Enter the num of times5\n",
      "('ram', 'sita', 'lakshman', 'hanuma', 'Ayodhya', 'krishna', 'Radha', 'balram', 'Yashoda', 'ram', 'sita', 'lakshman', 'hanuma', 'Ayodhya', 'krishna', 'Radha', 'balram', 'Yashoda', 'ram', 'sita', 'lakshman', 'hanuma', 'Ayodhya', 'krishna', 'Radha', 'balram', 'Yashoda', 'ram', 'sita', 'lakshman', 'hanuma', 'Ayodhya', 'krishna', 'Radha', 'balram', 'Yashoda', 'ram', 'sita', 'lakshman', 'hanuma', 'Ayodhya', 'krishna', 'Radha', 'balram', 'Yashoda')\n"
     ]
    }
   ],
   "source": [
    "# iv) to display the elements of the same tuple times\n",
    "rep = int(input(\"Enter the num of times\"))\n",
    "# using loops to repeat or we can use multiplication operator\n",
    "\n",
    "new_tup = tup*rep\n",
    "print(new_tup)\n",
    "\n",
    "# for i in range(rep):\n",
    "#     print(tup)"
   ]
  },
  {
   "cell_type": "code",
   "execution_count": 13,
   "id": "428472aa",
   "metadata": {},
   "outputs": [
    {
     "name": "stdout",
     "output_type": "stream",
     "text": [
      "('Apple', 'Banana', 'Strawberry', 'Carrot', 'Beetroot', 'lemon')\n"
     ]
    }
   ],
   "source": [
    "# v) to concatenate two tuples\n",
    "fruits = (\"Apple\", \"Banana\", \"Strawberry\")\n",
    "vegetable = (\"Carrot\", \"Beetroot\", \"lemon\")\n",
    "\n",
    "# using + operator to concatenate the two tuples\n",
    "grocery_list = fruits + vegetable\n",
    "\n",
    "print(grocery_list)"
   ]
  },
  {
   "cell_type": "code",
   "execution_count": 14,
   "id": "d7d3f536",
   "metadata": {},
   "outputs": [
    {
     "name": "stdout",
     "output_type": "stream",
     "text": [
      "['Apple', 'Banana', 'Beetroot', 'Carrot', 'Strawberry', 'lemon']\n"
     ]
    }
   ],
   "source": [
    "# vi) To sort the elements in the e list in ascending order\n",
    "items = []\n",
    "for i in range (len(grocery_list)):\n",
    "    items.append(grocery_list[i])\n",
    "    \n",
    "items.sort()\n",
    "print(items)"
   ]
  },
  {
   "cell_type": "markdown",
   "id": "619e689c",
   "metadata": {},
   "source": [
    "# 3 Write a python program to implement the following using list"
   ]
  },
  {
   "cell_type": "code",
   "execution_count": 15,
   "id": "ac2a3f9b",
   "metadata": {},
   "outputs": [
    {
     "name": "stdout",
     "output_type": "stream",
     "text": [
      "[12, 34, 32, 43, 67, 53, 99, 78, 102, 83]\n"
     ]
    }
   ],
   "source": [
    "# i) create a list with integers (min 10 numbers)\n",
    "\n",
    "nums = [12, 34, 32, 43, 67, 53, 99, 78, 102, 83]\n",
    "\n",
    "print(nums)"
   ]
  },
  {
   "cell_type": "code",
   "execution_count": 16,
   "id": "cb8a4e23",
   "metadata": {},
   "outputs": [
    {
     "name": "stdout",
     "output_type": "stream",
     "text": [
      "83\n"
     ]
    }
   ],
   "source": [
    "# ii) how to display the last number in the list\n",
    "\n",
    "#  we can access the last number or element in the list bu using negative indexing\n",
    "print(nums[-1])"
   ]
  },
  {
   "cell_type": "code",
   "execution_count": 17,
   "id": "95ce7032",
   "metadata": {},
   "outputs": [
    {
     "name": "stdout",
     "output_type": "stream",
     "text": [
      "[34, 32, 43, 67]\n"
     ]
    }
   ],
   "source": [
    "# iii) command for displaying the values from the list[0:4]\n",
    "\n",
    "#  we use slicing concept with [start and end) indices \n",
    "\n",
    "print(nums[1:5])"
   ]
  },
  {
   "cell_type": "code",
   "execution_count": 18,
   "id": "3ed275ef",
   "metadata": {},
   "outputs": [
    {
     "name": "stdout",
     "output_type": "stream",
     "text": [
      "[32, 43, 67, 53, 99, 78, 102, 83]\n"
     ]
    }
   ],
   "source": [
    "# iv) command fro diaplaying the values from the list[2:]\n",
    "# using only starting index the end index by default taken as last index of the list\n",
    "\n",
    "print(nums[2:])"
   ]
  },
  {
   "cell_type": "code",
   "execution_count": 19,
   "id": "f7230ae7",
   "metadata": {},
   "outputs": [
    {
     "name": "stdout",
     "output_type": "stream",
     "text": [
      "[12, 34, 32, 43, 67, 53]\n"
     ]
    }
   ],
   "source": [
    "# v) commmand fro displaying the values from the list[:6]\n",
    "# given only the last index by default the slice fun takes first index as zeroth place\n",
    "\n",
    "print(nums[:6])"
   ]
  },
  {
   "cell_type": "markdown",
   "id": "f9f521c5",
   "metadata": {},
   "source": [
    "# 4 Write a python program: tuple1 = (10, 50, 20, 40, 30)"
   ]
  },
  {
   "cell_type": "code",
   "execution_count": 20,
   "id": "9ea4b47d",
   "metadata": {},
   "outputs": [
    {
     "name": "stdout",
     "output_type": "stream",
     "text": [
      "(10, 50)\n"
     ]
    }
   ],
   "source": [
    "# i) To display the elements 10 and 50 from tuple1\n",
    "tuple1 =  (10, 50, 20, 40, 30)\n",
    "# using indexing we can access the elements from the tuple\n",
    "print(tuple1[:2])"
   ]
  },
  {
   "cell_type": "code",
   "execution_count": 21,
   "id": "67d93973",
   "metadata": {},
   "outputs": [
    {
     "name": "stdout",
     "output_type": "stream",
     "text": [
      "5\n"
     ]
    }
   ],
   "source": [
    "# ii) To display the length of a tuple1\n",
    "# we use len function to get the length of the tuple\n",
    "print(len(tuple1))"
   ]
  },
  {
   "cell_type": "code",
   "execution_count": 22,
   "id": "95701ee4",
   "metadata": {},
   "outputs": [
    {
     "name": "stdout",
     "output_type": "stream",
     "text": [
      "10\n"
     ]
    }
   ],
   "source": [
    "# iii) To find the minimum element from tuple1\n",
    "#  we can use min \n",
    "\n",
    "print(min(tuple1))"
   ]
  },
  {
   "cell_type": "code",
   "execution_count": 23,
   "id": "8ff3e0e9",
   "metadata": {},
   "outputs": [
    {
     "name": "stdout",
     "output_type": "stream",
     "text": [
      "150\n"
     ]
    }
   ],
   "source": [
    "# iv) To add all elements in the tuple1\n",
    "# use the sum function to add all the elements in tuple\n",
    "print(sum(tuple1))"
   ]
  },
  {
   "cell_type": "code",
   "execution_count": 24,
   "id": "382b086f",
   "metadata": {},
   "outputs": [
    {
     "name": "stdout",
     "output_type": "stream",
     "text": [
      "enter repetations count5\n",
      "(10, 50, 20, 40, 30, 10, 50, 20, 40, 30, 10, 50, 20, 40, 30, 10, 50, 20, 40, 30, 10, 50, 20, 40, 30)\n"
     ]
    }
   ],
   "source": [
    "# v) To display the same tuple multiple times\n",
    "rep = int(input(\"enter repetations count\"))\n",
    "print(tuple1*rep)"
   ]
  },
  {
   "cell_type": "markdown",
   "id": "97b263fe",
   "metadata": {},
   "source": [
    "# 5 Write a python program"
   ]
  },
  {
   "cell_type": "code",
   "execution_count": 25,
   "id": "8f746345",
   "metadata": {},
   "outputs": [
    {
     "name": "stdout",
     "output_type": "stream",
     "text": [
      "52\n"
     ]
    }
   ],
   "source": [
    "movie = \"Rotten Tomatoes are the less sail items in this year\"\n",
    "\n",
    "# i) To calculatee the length of a string\n",
    "#  to calculate length we use len \n",
    "\n",
    "print(len(movie))"
   ]
  },
  {
   "cell_type": "code",
   "execution_count": 26,
   "id": "f6caba04",
   "metadata": {},
   "outputs": [
    {
     "name": "stdout",
     "output_type": "stream",
     "text": [
      "['year', 'this', 'in', 'items', 'sail', 'less', 'the', 'are', 'Tomatoes', 'Rotten']\n"
     ]
    }
   ],
   "source": [
    "# ii) To revrse words in a string\n",
    "# to reverse the words in a string \n",
    "# we can convert the string in to list by using split then reverse\n",
    "\n",
    "words = movie.split()\n",
    "rev_words = words[::-1]\n",
    "print(rev_words)"
   ]
  },
  {
   "cell_type": "code",
   "execution_count": 27,
   "id": "29e85b07",
   "metadata": {},
   "outputs": [
    {
     "name": "stdout",
     "output_type": "stream",
     "text": [
      "Rotten Tomatoes are the less sail items in this year\n",
      "Rotten Tomatoes are the less sail items in this year\n",
      "Rotten Tomatoes are the less sail items in this year\n",
      "Rotten Tomatoes are the less sail items in this year\n",
      "Rotten Tomatoes are the less sail items in this year\n",
      "\n"
     ]
    }
   ],
   "source": [
    "# iii) To display the same string multiple times\n",
    "# using loop or mutiplication operator\n",
    "\n",
    "print((movie+\"\\n\")*5)"
   ]
  },
  {
   "cell_type": "code",
   "execution_count": 28,
   "id": "8660615e",
   "metadata": {},
   "outputs": [
    {
     "name": "stdout",
     "output_type": "stream",
     "text": [
      "bahubali the conclusion\n"
     ]
    }
   ],
   "source": [
    "# iv) TO concatenate two strings\n",
    "#  using  + operator to concatenate the two strings\n",
    "\n",
    "movie = \"bahubali\"\n",
    "tag = \" the conclusion\"\n",
    "\n",
    "movie_title = movie+tag\n",
    "print(movie_title)"
   ]
  },
  {
   "cell_type": "code",
   "execution_count": 29,
   "id": "ef875740",
   "metadata": {},
   "outputs": [
    {
     "name": "stdout",
     "output_type": "stream",
     "text": [
      "India\n"
     ]
    }
   ],
   "source": [
    "# v) Str1 = \"South India\", Using string slicing to display \"India\"\n",
    "Str1 = \"South India\"\n",
    "print(Str1[6:])"
   ]
  },
  {
   "cell_type": "markdown",
   "id": "67277629",
   "metadata": {},
   "source": [
    "# 6 Perform the following"
   ]
  },
  {
   "cell_type": "code",
   "execution_count": 30,
   "id": "1b33cfca",
   "metadata": {},
   "outputs": [
    {
     "name": "stdout",
     "output_type": "stream",
     "text": [
      "{'naem': 'MSD', 'Age': 45, 'Sport': ('cricket', 'football'), 'contry': 'India'}\n"
     ]
    }
   ],
   "source": [
    "# i) Create the Dictionary\n",
    "\n",
    "player = {\"naem\": \"MSD\", \"Age\": 45, \"Sport\":(\"cricket\", \"football\"), \"contry\": \"India\"}\n",
    "print(player)"
   ]
  },
  {
   "cell_type": "code",
   "execution_count": 31,
   "id": "c32c183f",
   "metadata": {},
   "outputs": [
    {
     "name": "stdout",
     "output_type": "stream",
     "text": [
      "naem:MSD\n",
      "Age:45\n",
      "Sport:('cricket', 'football')\n",
      "contry:India\n"
     ]
    }
   ],
   "source": [
    "# ii) Accessing values and keys in the Dictionary\n",
    "# using loop to get the key and value pair from the dictionary\n",
    "for i, j in player.items():\n",
    "    print(f\"{i}:{j}\")"
   ]
  },
  {
   "cell_type": "code",
   "execution_count": 32,
   "id": "964f16d5",
   "metadata": {},
   "outputs": [
    {
     "name": "stdout",
     "output_type": "stream",
     "text": [
      "{'naem': 'MSD', 'Age': 45, 'Sport': ('cricket', 'football'), 'contry': 'India', 'Spouse': 'Sakshi D'}\n"
     ]
    }
   ],
   "source": [
    "# iii) updating the dictionary using a function\n",
    "# by using a function to update the key and value in the player\n",
    "\n",
    "def update_player(player, i, j):\n",
    "    player[i] = j\n",
    "    \n",
    "update_player(player, \"Spouse\", \"Sakshi D\")\n",
    "\n",
    "print(player)"
   ]
  },
  {
   "cell_type": "code",
   "execution_count": 33,
   "id": "62ea6122",
   "metadata": {},
   "outputs": [
    {
     "name": "stdout",
     "output_type": "stream",
     "text": [
      "{'naem': 'MSD', 'Age': 45, 'Sport': ('cricket', 'football'), 'contry': 'India', 'Spouse': 'Sakshi D'}\n"
     ]
    }
   ],
   "source": [
    "# iv) clear and delete the dictionary\n",
    "player_details = player.copy()\n",
    "\n",
    "player.clear()\n",
    "\n",
    "del player\n",
    "\n",
    "# print(player)\n",
    "print(player_details)"
   ]
  },
  {
   "cell_type": "markdown",
   "id": "dd32da47",
   "metadata": {},
   "source": [
    "# 7 Python program to insert a number to any position in a list"
   ]
  },
  {
   "cell_type": "code",
   "execution_count": 34,
   "id": "fcc4b456",
   "metadata": {},
   "outputs": [
    {
     "name": "stdout",
     "output_type": "stream",
     "text": [
      "[12, 34, 32, 43, 67, 53, 99, 78, 102, 83, 56, 43]\n",
      "[12, 34, 32, 1000, 43, 67, 53, 99, 78, 102, 83, 56, 43]\n"
     ]
    }
   ],
   "source": [
    "#  for this we can use insert to insert an element to the list at any position\n",
    "nums = [12, 34, 32, 43, 67, 53, 99, 78, 102, 83, 56, 43]\n",
    "\n",
    "print(nums)\n",
    "\n",
    "nums.insert(3, 1000)\n",
    "print(nums)"
   ]
  },
  {
   "cell_type": "markdown",
   "id": "440c800d",
   "metadata": {},
   "source": [
    "# 8 Pyton program to delete an element from a list by index"
   ]
  },
  {
   "cell_type": "code",
   "execution_count": 35,
   "id": "e0cc707f",
   "metadata": {},
   "outputs": [
    {
     "name": "stdout",
     "output_type": "stream",
     "text": [
      "[12, 34, 32, 1000, 43, 67, 53, 99, 78, 102, 83, 56, 43]\n",
      "[12, 34, 32, 1000, 67, 53, 99, 78, 102, 83, 56, 43]\n",
      "[12, 34, 32, 1000, 67, 99, 78, 102, 83, 56, 43]\n"
     ]
    }
   ],
   "source": [
    "# to delete an element from a specified pos or index we can use poop(index) or del\n",
    "\n",
    "print(nums)\n",
    "\n",
    "nums.pop(4)\n",
    "\n",
    "print(nums)\n",
    "\n",
    "del nums[5]\n",
    "print(nums)"
   ]
  },
  {
   "cell_type": "markdown",
   "id": "10e5c8e0",
   "metadata": {},
   "source": [
    "# 9 Write a program to display the numbers from 1 to 100"
   ]
  },
  {
   "cell_type": "code",
   "execution_count": 36,
   "id": "31466bdc",
   "metadata": {},
   "outputs": [
    {
     "name": "stdout",
     "output_type": "stream",
     "text": [
      "1\n",
      "2\n",
      "3\n",
      "4\n",
      "5\n",
      "6\n",
      "7\n",
      "8\n",
      "9\n",
      "10\n",
      "11\n",
      "12\n",
      "13\n",
      "14\n",
      "15\n",
      "16\n",
      "17\n",
      "18\n",
      "19\n",
      "20\n",
      "21\n",
      "22\n",
      "23\n",
      "24\n",
      "25\n",
      "26\n",
      "27\n",
      "28\n",
      "29\n",
      "30\n",
      "31\n",
      "32\n",
      "33\n",
      "34\n",
      "35\n",
      "36\n",
      "37\n",
      "38\n",
      "39\n",
      "40\n",
      "41\n",
      "42\n",
      "43\n",
      "44\n",
      "45\n",
      "46\n",
      "47\n",
      "48\n",
      "49\n",
      "50\n",
      "51\n",
      "52\n",
      "53\n",
      "54\n",
      "55\n",
      "56\n",
      "57\n",
      "58\n",
      "59\n",
      "60\n",
      "61\n",
      "62\n",
      "63\n",
      "64\n",
      "65\n",
      "66\n",
      "67\n",
      "68\n",
      "69\n",
      "70\n",
      "71\n",
      "72\n",
      "73\n",
      "74\n",
      "75\n",
      "76\n",
      "77\n",
      "78\n",
      "79\n",
      "80\n",
      "81\n",
      "82\n",
      "83\n",
      "84\n",
      "85\n",
      "86\n",
      "87\n",
      "88\n",
      "89\n",
      "90\n",
      "91\n",
      "92\n",
      "93\n",
      "94\n",
      "95\n",
      "96\n",
      "97\n",
      "98\n",
      "99\n",
      "100\n"
     ]
    }
   ],
   "source": [
    "# here we can use loop from 1 to 100 \n",
    "for num in range(1, 101):\n",
    "    print(num)"
   ]
  },
  {
   "cell_type": "markdown",
   "id": "76077342",
   "metadata": {},
   "source": [
    "# 10 write a python program to find the sum of all items in a tuple"
   ]
  },
  {
   "cell_type": "code",
   "execution_count": 37,
   "id": "c72ad1f2",
   "metadata": {},
   "outputs": [
    {
     "name": "stdout",
     "output_type": "stream",
     "text": [
      "100\n"
     ]
    }
   ],
   "source": [
    "# we can use sum to calculate the summation of all items in a tuple\n",
    "\n",
    "values = (1, 2, 3, 4, 5, 6, 7, 8, 9, 10, 9, 8, 7, 6, 5, 4, 3, 2, 1)\n",
    "print(sum(values))"
   ]
  },
  {
   "cell_type": "markdown",
   "id": "343decac",
   "metadata": {},
   "source": [
    "# 11 create a dictionary containing three lambda functions square, cube and square root"
   ]
  },
  {
   "cell_type": "code",
   "execution_count": 38,
   "id": "68aac720",
   "metadata": {},
   "outputs": [
    {
     "name": "stdout",
     "output_type": "stream",
     "text": [
      "Enter a number: 25\n",
      "Square of 25 is 625\n",
      "Cube of 25 is 15625\n",
      "Squareroot of 25 is 5.0\n"
     ]
    }
   ],
   "source": [
    "# i) E.g dict = {\"Square\":function for squaring, \"Cube\":function for cube,\"Squareroot\":function for square root}\n",
    "#  we need to create the function for this\n",
    "\n",
    "import math\n",
    "\n",
    "# Create a dictionary with lambda functions\n",
    "calculate = {\n",
    "    \"Square\": lambda x: x**2,\n",
    "    \"Cube\": lambda x: x**3,\n",
    "    \"Squareroot\": lambda x: math.sqrt(x)\n",
    "}\n",
    "\n",
    "# Test the functions\n",
    "number = int(input(\"Enter a number: \"))\n",
    "sq_res = calculate[\"Square\"](number)\n",
    "cb_res = calculate[\"Cube\"](number)\n",
    "sqrt_res = calculate[\"Squareroot\"](number)\n",
    "\n",
    "# Print the results\n",
    "print(f\"Square of {number} is {sq_res}\")\n",
    "print(f\"Cube of {number} is {cb_res}\")\n",
    "print(f\"Squareroot of {number} is {sqrt_res}\")"
   ]
  },
  {
   "cell_type": "markdown",
   "id": "b7160c9a",
   "metadata": {},
   "source": [
    "# 12 A list of words is given."
   ]
  },
  {
   "cell_type": "code",
   "execution_count": 39,
   "id": "161156ef",
   "metadata": {},
   "outputs": [
    {
     "name": "stdout",
     "output_type": "stream",
     "text": [
      "['hello', 'Dear', 'hOw', 'ARe', 'You']\n",
      "['hOw', 'ARe']\n"
     ]
    }
   ],
   "source": [
    "# find teh words from the list have their second character in uppercase \n",
    "ls = [\"hello\", \"Dear\", \"hOw\", \"ARe\", \"You\"]\n",
    "res = []\n",
    "for i in ls:\n",
    "    if i[1].isupper():\n",
    "        res.append(i)\n",
    "        \n",
    "print(ls)\n",
    "print(res)"
   ]
  },
  {
   "cell_type": "markdown",
   "id": "ceb4b115",
   "metadata": {},
   "source": [
    "# 13 A dictionary of names and their weights on earth is given"
   ]
  },
  {
   "cell_type": "code",
   "execution_count": 41,
   "id": "6ceab740",
   "metadata": {},
   "outputs": [],
   "source": [
    "# Find how much they will weigh on the moon .\n",
    "# Use map and lambda functions \n",
    "# formula: wMoon = (wEarth * GMoon)/GEarth\n",
    "# i) Weight of people in kg: WeightOnEarth = {\"john\":45, \"shelly\":65, \"marry\":35}\n",
    "# ii) Gravational force on the Moon: 1.652 m/s2 --> GMoon = 1.622\n",
    "# iii) Gravitational force on the Earth: 9.81 m/s2 --> GEarth = 9.81"
   ]
  },
  {
   "cell_type": "code",
   "execution_count": 47,
   "id": "8e07438c",
   "metadata": {},
   "outputs": [
    {
     "name": "stdout",
     "output_type": "stream",
     "text": [
      "John:7.44kg\n",
      "Shelly:10.75kg\n",
      "Marry:5.79kg\n"
     ]
    }
   ],
   "source": [
    "WeightOnEarth = {\"John\":45, \"Shelly\":65, \"Marry\":35} #weight on earth\n",
    "\n",
    "GEarth = 9.81 #gravitational force on the earth\n",
    "GMoon = 1.622 #gravitional force on the moon\n",
    "\n",
    "WeightOnMoon = {name:(weight*GMoon)/GEarth for name, weight in WeightOnEarth.items()}\n",
    "\n",
    "for name, MoonWeight in WeightOnMoon.items():\n",
    "    print(f\"{name}:{MoonWeight:.2f}kg\") #.2f means flating point"
   ]
  },
  {
   "cell_type": "markdown",
   "id": "caefe593",
   "metadata": {},
   "source": [
    "# CONTROL STRUCTURES"
   ]
  },
  {
   "cell_type": "markdown",
   "id": "9365314a",
   "metadata": {},
   "source": [
    "# 1) Write a python program to find N prime numbers"
   ]
  },
  {
   "cell_type": "code",
   "execution_count": 1,
   "id": "ec074ddc",
   "metadata": {},
   "outputs": [
    {
     "name": "stdout",
     "output_type": "stream",
     "text": [
      "Enter a number: 70\n",
      "[2, 3, 5, 7, 11, 13, 17, 19, 23, 29, 31, 37, 41, 43, 47, 53, 59, 61, 67]\n"
     ]
    }
   ],
   "source": [
    "# a function to evaluate whether the given parameter is a prime or not\n",
    "def isprime(num):\n",
    "    if num <= 1:\n",
    "        return False\n",
    "    if num <= 3:\n",
    "        return True\n",
    "    if num % 2 == 0 or num % 3 == 0:\n",
    "        return False\n",
    "    i = 5\n",
    "    while i * i <= num:\n",
    "        if num % i == 0 or num % (i + 2) == 0:\n",
    "            return False\n",
    "        i += 6\n",
    "    return True\n",
    "\n",
    "\n",
    "N = int(input(\"Enter a number: \"))\n",
    "\n",
    "prime_nums=[]\n",
    "for i in range(2, N):\n",
    "    if isprime(i):\n",
    "       prime_nums.append(i)\n",
    "print(prime_nums)"
   ]
  },
  {
   "cell_type": "markdown",
   "id": "5cdeb61a",
   "metadata": {},
   "source": [
    "# 2) Write the python code that calculates the salary of an employee"
   ]
  },
  {
   "cell_type": "code",
   "execution_count": 1,
   "id": "2ca067cd",
   "metadata": {},
   "outputs": [],
   "source": [
    "# prompt the user to enter the Basic Salary, HRA, TA and DA\n",
    "# Add these componenets to calculate the Gross Salary\n",
    "# Also, deduct 10% of salary from gross salary to be paid as tax\n",
    "# And display gross minus tax as net salary"
   ]
  },
  {
   "cell_type": "code",
   "execution_count": 3,
   "id": "7e1c8406",
   "metadata": {},
   "outputs": [
    {
     "name": "stdout",
     "output_type": "stream",
     "text": [
      "Enter the Base Salary27000.80\n",
      "Enter the HRA7000\n",
      "Enter the TA2500\n",
      "Enter the DA6250\n",
      "The net salary of an employee is after 2700.08 tax deduction is: 42750.8\n"
     ]
    }
   ],
   "source": [
    "Basic_sal = float(input(\"Enter the Base Salary\"))\n",
    "HRA = int(input(\"Enter the HRA\"))\n",
    "TA = int(input(\"Enter the TA\"))\n",
    "DA = int(input(\"Enter the DA\"))\n",
    "\n",
    "Gross_salary = Basic_sal + float(HRA) + float(TA) + float(DA)\n",
    "\n",
    "net_salary = Gross_salary - (float(Basic_sal)*0.1)\n",
    "\n",
    "print(\"The net salary of an employee is after \" + str(float(Basic_sal)*0.1)+ \" tax deduction is: \"+str(Gross_salary))"
   ]
  },
  {
   "cell_type": "markdown",
   "id": "46d58c9e",
   "metadata": {},
   "source": [
    "# 3) Write a python program to search for a sttring in the given list"
   ]
  },
  {
   "cell_type": "code",
   "execution_count": 6,
   "id": "892831bd",
   "metadata": {},
   "outputs": [
    {
     "name": "stdout",
     "output_type": "stream",
     "text": [
      "'versatile', found in abt_pthon\n",
      "'c++', not found in abt_pthon\n"
     ]
    }
   ],
   "source": [
    "abt_python = \"Python: A versatile, high-level programming language known for its simplicity and readability\"\n",
    "# to search a work in python we need to use either (in) or find() method\n",
    "\n",
    "word1 = \"versatile\"\n",
    "word2 = \"c++\"\n",
    "\n",
    "# unsing in \n",
    "if word1 in abt_python:\n",
    "    print(f\"'{word1}', found in abt_pthon\")\n",
    "else:\n",
    "    print(f\"'{word1}', not found in abt_pthon\")\n",
    "    \n",
    "# unsig find()\n",
    "ind = abt_python.find(word2)\n",
    "\n",
    "if(ind != -1):\n",
    "    print(f\"'{word2}', found in abt_pthon\")\n",
    "else:\n",
    "    print(f\"'{word2}', not found in abt_pthon\")"
   ]
  },
  {
   "cell_type": "markdown",
   "id": "056d46b7",
   "metadata": {},
   "source": [
    "# 4) write a python function that accepts a string and calculate the number of uppercase and lowercase letters"
   ]
  },
  {
   "cell_type": "code",
   "execution_count": 14,
   "id": "0bc9e0f0",
   "metadata": {},
   "outputs": [
    {
     "name": "stdout",
     "output_type": "stream",
     "text": [
      "Enter a string with upper and lower case letters\n",
      "\n",
      "ThIs Is A StRiNg WiTh MiXeD CaSe LeTtErS.\n",
      "\n",
      "Upper case letter count is: 18\n",
      "\n",
      "Lower case letter count is: 15\n"
     ]
    }
   ],
   "source": [
    "def letter_count(name):\n",
    "    upper_count =0\n",
    "    lower_count =0\n",
    "    for i in name:\n",
    "        if i.isupper():\n",
    "            upper_count += 1\n",
    "        elif i.islower():\n",
    "            lower_count += 1\n",
    "            \n",
    "    print(\"\\nUpper case letter count is: \"+str(upper_count))\n",
    "    print(\"\\nLower case letter count is: \"+str(lower_count))\n",
    "            \n",
    "            \n",
    "name = input(\"Enter a string with upper and lower case letters\\n\\n\")\n",
    "letter_count(name)\n"
   ]
  },
  {
   "cell_type": "markdown",
   "id": "0d0e9324",
   "metadata": {},
   "source": [
    "# 5) write a program to display the sum of odd numbers and evem numbers that fall between 12 and 37"
   ]
  },
  {
   "cell_type": "code",
   "execution_count": 7,
   "id": "ad7f9a2b",
   "metadata": {},
   "outputs": [
    {
     "name": "stdout",
     "output_type": "stream",
     "text": [
      "Even sum is: 312\n",
      "Odd sum is: 325\n"
     ]
    }
   ],
   "source": [
    "# we have to take two seperate variables that hold odd_val_sum and even_val_sum\n",
    "even_sum = 0\n",
    "odd_sum =0\n",
    "for i in range(12, 38):\n",
    "    if i%2 ==0:\n",
    "        even_sum += i\n",
    "    else:\n",
    "        odd_sum += i\n",
    "        \n",
    "print(\"Even sum is: \"+ str(even_sum))\n",
    "print(\"Odd sum is: \"+ str(odd_sum))"
   ]
  },
  {
   "cell_type": "markdown",
   "id": "d1c3727c",
   "metadata": {},
   "source": [
    "# 6) write a python program to print the table of any number"
   ]
  },
  {
   "cell_type": "code",
   "execution_count": 15,
   "id": "c42d1cbc",
   "metadata": {},
   "outputs": [
    {
     "name": "stdout",
     "output_type": "stream",
     "text": [
      "Enter a number : 5\n",
      "\n",
      "printing 5 table \n",
      "\n",
      "5 * 1 = 5\n",
      "\n",
      "5 * 2 = 10\n",
      "\n",
      "5 * 3 = 15\n",
      "\n",
      "5 * 4 = 20\n",
      "\n",
      "5 * 5 = 25\n",
      "\n",
      "5 * 6 = 30\n",
      "\n",
      "5 * 7 = 35\n",
      "\n",
      "5 * 8 = 40\n",
      "\n",
      "5 * 9 = 45\n",
      "\n",
      "5 * 10 = 50\n",
      "\n"
     ]
    }
   ],
   "source": [
    "num = int(input(\"Enter a number : \"))\n",
    "print(\"\\nprinting \"+str(num)+\" table \\n\")\n",
    "int(num)\n",
    "\n",
    "for i in range(1, 11):\n",
    "    res = num*i\n",
    "    print(f\"{num} * {i} = {res}\\n\")"
   ]
  },
  {
   "cell_type": "markdown",
   "id": "57894581",
   "metadata": {},
   "source": [
    "# 7) write a pytho program to sum the first 10 prime numbers"
   ]
  },
  {
   "cell_type": "code",
   "execution_count": 19,
   "id": "83c37b9d",
   "metadata": {},
   "outputs": [
    {
     "name": "stdout",
     "output_type": "stream",
     "text": [
      "[2, 3, 5, 7, 11, 13, 17, 19, 23, 29]\n",
      "The sum of first 10 primes is : 129\n"
     ]
    }
   ],
   "source": [
    "#  for this we have take frist 10 prime numbers and sum all of them \n",
    "\n",
    "def isprime(num):\n",
    "    if num <= 1:\n",
    "        return False\n",
    "    if num <= 3:\n",
    "        return True\n",
    "    if num % 2 == 0 or num % 3 == 0:\n",
    "        return False\n",
    "    i = 5\n",
    "    while i * i <= num:\n",
    "        if num % i == 0 or num % (i + 2) == 0:\n",
    "            return False\n",
    "        i += 6\n",
    "    return True\n",
    "\n",
    "result =0\n",
    "primes = []\n",
    "i =2\n",
    "\n",
    "while len(primes) < 10:\n",
    "    if isprime(i):\n",
    "        primes.append(i)\n",
    "        result += i\n",
    "    i += 1\n",
    "\n",
    "print(primes)\n",
    "print(f\"The sum of first 10 primes is : {result}\")"
   ]
  },
  {
   "cell_type": "markdown",
   "id": "88cc1528",
   "metadata": {},
   "source": [
    "# 8) write a python program to implement arithemetic operations using nested if statement"
   ]
  },
  {
   "cell_type": "code",
   "execution_count": 27,
   "id": "c849a1b6",
   "metadata": {},
   "outputs": [
    {
     "name": "stdout",
     "output_type": "stream",
     "text": [
      "Enter the first number\n",
      "25\n",
      "Enter the operator\n",
      "*\n",
      "Enter the second number\n",
      "3\n",
      "25 * 3 is : 75\n",
      "\n"
     ]
    }
   ],
   "source": [
    "# using nested if conditions \n",
    "def calculator(num1, optr, num2):\n",
    "    result = 0\n",
    "    if optr == \"+\":\n",
    "        result = num1+num2\n",
    "    elif optr == \"-\":\n",
    "        result = num1-num2\n",
    "    elif optr == \"*\":\n",
    "        result = num1*num2\n",
    "    elif optr == \"/\":\n",
    "        if num2!=0:\n",
    "            result = num1/num2\n",
    "        else:\n",
    "            result = \"undefined\"\n",
    "            \n",
    "    else:\n",
    "        result = \"Unknown Symbol Entered\"\n",
    "    \n",
    "    return result\n",
    "\n",
    "num1 = int(input(\"Enter the first number\\n\"))\n",
    "optr = input(\"Enter the operator\\n\")\n",
    "num2 = int(input(\"Enter the second number\\n\"))\n",
    "\n",
    "ans = calculator(num1, optr, num2)\n",
    "print(f\"{num1} {optr} {num2} is : {ans}\\n\")"
   ]
  },
  {
   "cell_type": "markdown",
   "id": "b611828d",
   "metadata": {},
   "source": [
    "# 9) write a python program to take the temperature in celsius and convert it into fahrenheit"
   ]
  },
  {
   "cell_type": "code",
   "execution_count": 37,
   "id": "c8c6ac32",
   "metadata": {},
   "outputs": [
    {
     "name": "stdout",
     "output_type": "stream",
     "text": [
      "enter the celsius degrees43\n",
      "43 celsius concerted in to 109.4 fahrenheit temperaure\n"
     ]
    }
   ],
   "source": [
    "temp = int(input(\"enter the celsius degrees\"))\n",
    "fahrenheit = (temp * 9/5) + 32\n",
    "print(f\"{temp} celsius concerted in to {fahrenheit} fahrenheit temperaure\")\n"
   ]
  },
  {
   "cell_type": "markdown",
   "id": "697b3607",
   "metadata": {},
   "source": [
    "# 10) write a python program "
   ]
  },
  {
   "cell_type": "code",
   "execution_count": 35,
   "id": "b9684968",
   "metadata": {},
   "outputs": [
    {
     "name": "stdout",
     "output_type": "stream",
     "text": [
      "The maximum in the list is: 442\n",
      "The minimum in the list is: -62\n"
     ]
    }
   ],
   "source": [
    "# to find a maximum and minum number in a list \n",
    "# without using inbuilt functions\n",
    "\n",
    "nums = [10, 20, 442, 38, 91, 5, 25, 87, 90, -62]\n",
    "maxi = 0\n",
    "mini = 0\n",
    "\n",
    "for i in nums:\n",
    "    if maxi<i:\n",
    "        maxi = i\n",
    "    if mini >i:\n",
    "        mini = i\n",
    "\n",
    "print(f\"The maximum in the list is: {maxi}\")\n",
    "print(f\"The minimum in the list is: {mini}\")"
   ]
  },
  {
   "cell_type": "markdown",
   "id": "accdf954",
   "metadata": {},
   "source": [
    "# 11) write a program in python \n"
   ]
  },
  {
   "cell_type": "code",
   "execution_count": 36,
   "id": "06bc2f72",
   "metadata": {},
   "outputs": [
    {
     "name": "stdout",
     "output_type": "stream",
     "text": [
      "secons in 30-day month is : 2592000\n"
     ]
    }
   ],
   "source": [
    "# to print out the number of seconds in 30-day month 30 days,\n",
    "# 24 hours in a day , 60 minutes per day, 60 sec in a minute\n",
    "\n",
    "days_a_month = 30\n",
    "hours_a_day = 24\n",
    "mins_an_hour = 60\n",
    "secs_a_min = 60\n",
    "\n",
    "result = days_a_month * hours_a_day * mins_an_hour * secs_a_min\n",
    "print(f\"secons in 30-day month is : {result}\")"
   ]
  },
  {
   "cell_type": "markdown",
   "id": "52e2c0f0",
   "metadata": {},
   "source": [
    "# 12) write a python program to print number of seconds in a year"
   ]
  },
  {
   "cell_type": "code",
   "execution_count": 38,
   "id": "64c94e9e",
   "metadata": {},
   "outputs": [
    {
     "name": "stdout",
     "output_type": "stream",
     "text": [
      "the number of seconds in a year is : 62208000\n"
     ]
    }
   ],
   "source": [
    "months = 30\n",
    "days = 24\n",
    "hours = 24\n",
    "mins = 60\n",
    "secs = 60\n",
    "\n",
    "result = months * days * hours * mins * secs\n",
    "print(f\"the number of seconds in a year is : {result}\")"
   ]
  },
  {
   "cell_type": "markdown",
   "id": "6de09ef1",
   "metadata": {},
   "source": [
    "# 13) A high-speed train can travel at an average speed of 150mph\n",
    "how long will it take a train travelling at this speed to travel from \n",
    "london to glasgow which is 414 miles away"
   ]
  },
  {
   "cell_type": "code",
   "execution_count": 40,
   "id": "801019d5",
   "metadata": {},
   "outputs": [
    {
     "name": "stdout",
     "output_type": "stream",
     "text": [
      "the time taken to travel from londom to glasgow is 2.760\n"
     ]
    }
   ],
   "source": [
    "# as we know the formula speed = distance/ time\n",
    "#  as we need time then time = distance/speed\n",
    "speed = 150\n",
    "distance = 414\n",
    "\n",
    "time = distance/speed\n",
    "\n",
    "print(f\"the time taken to travel from londom to glasgow is {time:.3f}\")"
   ]
  },
  {
   "cell_type": "markdown",
   "id": "d08ef43f",
   "metadata": {},
   "source": [
    "# 14) write a python program that defines a variable called days_in_each_school_year\n",
    "and assign 192 to the variable \n",
    "the program should then print out the total hours that you spend in school \n",
    "from year 7 to 11, if each day you spend 6 hours in school days_in_each_school_year = 192"
   ]
  },
  {
   "cell_type": "code",
   "execution_count": 41,
   "id": "8ff5f620",
   "metadata": {},
   "outputs": [
    {
     "name": "stdout",
     "output_type": "stream",
     "text": [
      "Total hours spent in school from year 7 - year 11 is 4608 \n"
     ]
    }
   ],
   "source": [
    "days_in_each_school_year = 192\n",
    "no_of_years = 11-7\n",
    "no_of_hours = 6\n",
    "\n",
    "total_hours = no_of_years * days_in_each_school_year * no_of_hours\n",
    "\n",
    "print(f\"Total hours spent in school from year 7 - year 11 is {total_hours} \")"
   ]
  },
  {
   "cell_type": "markdown",
   "id": "ad561d9b",
   "metadata": {},
   "source": [
    "# 15) If the age of Ram, Sam and Khan are input through the keyboard\n",
    "write a python program to determine the eldest and youngest of the three"
   ]
  },
  {
   "cell_type": "code",
   "execution_count": 45,
   "id": "357b150b",
   "metadata": {},
   "outputs": [
    {
     "name": "stdout",
     "output_type": "stream",
     "text": [
      "Enter the age of Ram 23\n",
      "Enter the age of Sam 19\n",
      "Enter the age of Khan 21\n",
      "\n",
      "Elder of the three is 23\n",
      "\n",
      "Younger of the three is 19\n"
     ]
    }
   ],
   "source": [
    "ram = int(input(\"Enter the age of Ram \"))\n",
    "sam = int(input(\"Enter the age of Sam \"))\n",
    "khan = int(input(\"Enter the age of Khan \"))\n",
    "\n",
    "# using min and max inbuilt functions to solve the problem\n",
    "elder = max(ram, sam, khan)\n",
    "younger = min(ram, sam, khan)\n",
    "\n",
    "print(f\"\\nElder of the three is {elder}\")\n",
    "print(f\"\\nYounger of the three is {younger}\")"
   ]
  },
  {
   "cell_type": "markdown",
   "id": "28aa98f3",
   "metadata": {},
   "source": [
    "# 16) write a python program to rotate a list by right n times\n",
    "with and without slicing techinique"
   ]
  },
  {
   "cell_type": "code",
   "execution_count": 47,
   "id": "cd2404cc",
   "metadata": {},
   "outputs": [
    {
     "name": "stdout",
     "output_type": "stream",
     "text": [
      "Enter num of rotations needed: 4\n",
      "Rotated using slicing: [7, 8, 9, 10, 1, 2, 3, 4, 5, 6]\n",
      "Rotated without slicing: [7, 8, 9, 10, 1, 2, 3, 4, 5, 6]\n"
     ]
    }
   ],
   "source": [
    "# unsing slicing technique\n",
    "def slicing_rotate(lst, n):\n",
    "    n = n % len(lst) \n",
    "    return lst[-n:] + lst[:-n]\n",
    "\n",
    "# without slicing\n",
    "def non_slicing_rotate(lst, n):\n",
    "    n = n % len(lst)  \n",
    "    rotated_list = [0] * len(lst)\n",
    "    for i in range(len(lst)):\n",
    "        rotated_list[(i + n) % len(lst)] = lst[i]\n",
    "    return rotated_list\n",
    "\n",
    "\n",
    "nums = [1, 2, 3, 4, 5, 6, 7, 8, 9, 10]\n",
    "\n",
    "\n",
    "n = int(input(\"Enter num of rotations needed: \"))\n",
    "\n",
    "ans1 = slicing_rotate(nums, n)\n",
    "print(\"Rotated using slicing:\", ans1)\n",
    "\n",
    "ans2 = slicing_rotate(nums, n)\n",
    "print(\"Rotated without slicing:\", ans2)"
   ]
  },
  {
   "cell_type": "markdown",
   "id": "17a5b981",
   "metadata": {},
   "source": [
    "# 17) Python program to print the pattersn given below"
   ]
  },
  {
   "cell_type": "markdown",
   "id": "2df23409",
   "metadata": {},
   "source": [
    "# i) its  a pascal triangle the value "
   ]
  },
  {
   "cell_type": "code",
   "execution_count": 52,
   "id": "a8126914",
   "metadata": {},
   "outputs": [
    {
     "name": "stdout",
     "output_type": "stream",
     "text": [
      "Enter the number of rows 9\n",
      "\n",
      "\n",
      "          1           \n",
      "         1 1          \n",
      "        1 2 1         \n",
      "       1 3 3 1        \n",
      "      1 4 6 4 1       \n",
      "    1 5 10 10 5 1     \n",
      "   1 6 15 20 15 6 1   \n",
      " 1 7 21 35 35 21 7 1  \n",
      "1 8 28 56 70 56 28 8 1\n"
     ]
    }
   ],
   "source": [
    "\n",
    "# is dependent on the summation of above two cells\n",
    "\n",
    "def pattern1(num_rows):\n",
    "    ans = []\n",
    "    for i in range(num_rows):\n",
    "        row = [1]  \n",
    "        if i > 0:\n",
    "            for j in range(1, i):\n",
    "                element = ans[i - 1][j - 1] + ans[i - 1][j]\n",
    "                row.append(element)\n",
    "            row.append(1) \n",
    "        ans.append(row)\n",
    "\n",
    "    return ans\n",
    "\n",
    "def print_(ans):\n",
    "    max_width = len(' '.join(map(str, ans[-1])))  \n",
    "    for row in ans:\n",
    "        formatted_row = ' '.join(map(str, row))\n",
    "        print(formatted_row.center(max_width))\n",
    "\n",
    "num_rows = int(input(\"Enter the number of rows \"))\n",
    "print(\"\\n\")\n",
    "triangle = pattern1(num_rows)\n",
    "print_(triangle)"
   ]
  },
  {
   "cell_type": "markdown",
   "id": "a5c5c095",
   "metadata": {},
   "source": [
    "# ii) Given pattern2 is a right angle triangle"
   ]
  },
  {
   "cell_type": "code",
   "execution_count": 59,
   "id": "667db149",
   "metadata": {
    "scrolled": true
   },
   "outputs": [
    {
     "name": "stdout",
     "output_type": "stream",
     "text": [
      "ENter the number pf rows 6\n",
      "\n",
      "\n",
      " \n",
      "*  \n",
      "* *  \n",
      "* * *  \n",
      "* * * *  \n",
      "* * * * *  \n"
     ]
    }
   ],
   "source": [
    "num = int(input(\"ENter the number pf rows \"))\n",
    "print(\"\\n\")\n",
    "\n",
    "for i in range(0, num):\n",
    "    for j in range(0, i):\n",
    "        print(\"* \", end=\"\")\n",
    "    print(\" \")\n",
    "    \n"
   ]
  },
  {
   "cell_type": "markdown",
   "id": "038b4027",
   "metadata": {},
   "source": [
    "# iii) Given pattern is a pyramid with spaces and asterisks"
   ]
  },
  {
   "cell_type": "code",
   "execution_count": 66,
   "id": "1f474d39",
   "metadata": {},
   "outputs": [
    {
     "name": "stdout",
     "output_type": "stream",
     "text": [
      "Enter the number of rows 7\n",
      "\n",
      "\n",
      "      * \n",
      "     * * \n",
      "    * * * \n",
      "   * * * * \n",
      "  * * * * * \n",
      " * * * * * * \n",
      "* * * * * * * \n"
     ]
    }
   ],
   "source": [
    "num = int(input(\"Enter the number of rows \"))\n",
    "print(\"\\n\")\n",
    "\n",
    "# for i in range(1, num + 1):\n",
    "#     for j in range(1, num - i+1 ):\n",
    "#         print(\" \", end=\"\")\n",
    "\n",
    "#     for k in range(1, i):\n",
    "#         print(\"*\", end=\"\")\n",
    "\n",
    "#     print()\n",
    "    \n",
    "\n",
    "for i in range(num):\n",
    "    print(\" \" * (num - i - 1) + \"* \" * (i + 1))"
   ]
  },
  {
   "cell_type": "markdown",
   "id": "e4bbee16",
   "metadata": {},
   "source": [
    "# iv) right angle triangle with a string "
   ]
  },
  {
   "cell_type": "code",
   "execution_count": 75,
   "id": "27bec5ed",
   "metadata": {},
   "outputs": [
    {
     "name": "stdout",
     "output_type": "stream",
     "text": [
      "Enter a title : Mphasis!\n",
      "M\n",
      "Mp\n",
      "Mph\n",
      "Mpha\n",
      "Mphas\n",
      "Mphasi\n",
      "Mphasis\n",
      "Mphasis!\n"
     ]
    }
   ],
   "source": [
    "title = input(\"Enter a title : \")\n",
    "\n",
    "for i in range(len(title)):\n",
    "    print(title[:i+1])\n",
    "    "
   ]
  },
  {
   "cell_type": "code",
   "execution_count": null,
   "id": "9e43ef84",
   "metadata": {},
   "outputs": [],
   "source": []
  }
 ],
 "metadata": {
  "kernelspec": {
   "display_name": "Python 3 (ipykernel)",
   "language": "python",
   "name": "python3"
  },
  "language_info": {
   "codemirror_mode": {
    "name": "ipython",
    "version": 3
   },
   "file_extension": ".py",
   "mimetype": "text/x-python",
   "name": "python",
   "nbconvert_exporter": "python",
   "pygments_lexer": "ipython3",
   "version": "3.11.4"
  }
 },
 "nbformat": 4,
 "nbformat_minor": 5
}
